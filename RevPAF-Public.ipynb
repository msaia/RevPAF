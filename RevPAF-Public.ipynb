{
 "cells": [
  {
   "cell_type": "markdown",
   "metadata": {},
   "source": [
    "# Forecasting Process for ICOP"
   ]
  },
  {
   "cell_type": "markdown",
   "metadata": {},
   "source": [
    "## First we read in packages for our workflow"
   ]
  },
  {
   "cell_type": "code",
   "execution_count": 1,
   "metadata": {},
   "outputs": [],
   "source": [
    "import numpy as np\n",
    "\n",
    "import pandas as pd\n",
    "\n",
    "import statsmodels.api as sm\n",
    "\n",
    "from statsmodels.tsa.api import VAR, DynamicVAR\n",
    "\n",
    "from statsmodels.tsa.stattools import adfuller\n",
    "\n",
    "import matplotlib.pyplot as plt"
   ]
  },
  {
   "cell_type": "markdown",
   "metadata": {},
   "source": [
    "## Begin the Process for OC Forecasts\n",
    "### Read in data - including some quick operations to clean up the excel"
   ]
  },
  {
   "cell_type": "code",
   "execution_count": 2,
   "metadata": {},
   "outputs": [],
   "source": [
    "xl = pd.read_excel('.../3Q19DataViewOFC.xlsx',sheet_name=\"OC\", usecols=range(1,9), index_col=0, skiprows=9, skipcol=1)\n",
    "xl.drop(xl.tail(24).index,inplace=True) # drop forecast"
   ]
  },
  {
   "cell_type": "code",
   "execution_count": 3,
   "metadata": {},
   "outputs": [
    {
     "data": {
      "text/html": [
       "<div>\n",
       "<style scoped>\n",
       "    .dataframe tbody tr th:only-of-type {\n",
       "        vertical-align: middle;\n",
       "    }\n",
       "\n",
       "    .dataframe tbody tr th {\n",
       "        vertical-align: top;\n",
       "    }\n",
       "\n",
       "    .dataframe thead th {\n",
       "        text-align: right;\n",
       "    }\n",
       "</style>\n",
       "<table border=\"1\" class=\"dataframe\">\n",
       "  <thead>\n",
       "    <tr style=\"text-align: right;\">\n",
       "      <th></th>\n",
       "      <th>Financial Activities (Jobs x 1000)</th>\n",
       "      <th>Office-using Services (Jobs x 1000)</th>\n",
       "      <th>Stock (SF x 1000)</th>\n",
       "      <th>Completions (SF x 1000)</th>\n",
       "      <th>Vacancy Rate (%)</th>\n",
       "      <th>Net Absorption (SF x 1000)</th>\n",
       "      <th>TW Rent Index ($/SF)</th>\n",
       "    </tr>\n",
       "    <tr>\n",
       "      <th>Year</th>\n",
       "      <th></th>\n",
       "      <th></th>\n",
       "      <th></th>\n",
       "      <th></th>\n",
       "      <th></th>\n",
       "      <th></th>\n",
       "      <th></th>\n",
       "    </tr>\n",
       "  </thead>\n",
       "  <tbody>\n",
       "    <tr>\n",
       "      <th>2018.3</th>\n",
       "      <td>112.7</td>\n",
       "      <td>299.9</td>\n",
       "      <td>75726</td>\n",
       "      <td>365</td>\n",
       "      <td>13.2</td>\n",
       "      <td>-106</td>\n",
       "      <td>32.81</td>\n",
       "    </tr>\n",
       "    <tr>\n",
       "      <th>2018.4</th>\n",
       "      <td>112.1</td>\n",
       "      <td>299.9</td>\n",
       "      <td>75726</td>\n",
       "      <td>0</td>\n",
       "      <td>12.6</td>\n",
       "      <td>460</td>\n",
       "      <td>32.75</td>\n",
       "    </tr>\n",
       "    <tr>\n",
       "      <th>2019.1</th>\n",
       "      <td>112.3</td>\n",
       "      <td>301.8</td>\n",
       "      <td>76066</td>\n",
       "      <td>340</td>\n",
       "      <td>12.7</td>\n",
       "      <td>242</td>\n",
       "      <td>32.89</td>\n",
       "    </tr>\n",
       "    <tr>\n",
       "      <th>2019.2</th>\n",
       "      <td>112.3</td>\n",
       "      <td>301.9</td>\n",
       "      <td>76628</td>\n",
       "      <td>562</td>\n",
       "      <td>12.4</td>\n",
       "      <td>700</td>\n",
       "      <td>33.26</td>\n",
       "    </tr>\n",
       "    <tr>\n",
       "      <th>2019.3</th>\n",
       "      <td>113.5</td>\n",
       "      <td>303.1</td>\n",
       "      <td>76976</td>\n",
       "      <td>348</td>\n",
       "      <td>12.3</td>\n",
       "      <td>442</td>\n",
       "      <td>33.52</td>\n",
       "    </tr>\n",
       "  </tbody>\n",
       "</table>\n",
       "</div>"
      ],
      "text/plain": [
       "        Financial Activities (Jobs x 1000)  \\\n",
       "Year                                         \n",
       "2018.3                               112.7   \n",
       "2018.4                               112.1   \n",
       "2019.1                               112.3   \n",
       "2019.2                               112.3   \n",
       "2019.3                               113.5   \n",
       "\n",
       "        Office-using Services (Jobs x 1000)  Stock (SF x 1000)  \\\n",
       "Year                                                             \n",
       "2018.3                                299.9              75726   \n",
       "2018.4                                299.9              75726   \n",
       "2019.1                                301.8              76066   \n",
       "2019.2                                301.9              76628   \n",
       "2019.3                                303.1              76976   \n",
       "\n",
       "        Completions (SF x 1000)  Vacancy Rate (%)  Net Absorption (SF x 1000)  \\\n",
       "Year                                                                            \n",
       "2018.3                      365              13.2                        -106   \n",
       "2018.4                        0              12.6                         460   \n",
       "2019.1                      340              12.7                         242   \n",
       "2019.2                      562              12.4                         700   \n",
       "2019.3                      348              12.3                         442   \n",
       "\n",
       "        TW Rent Index ($/SF)  \n",
       "Year                          \n",
       "2018.3                 32.81  \n",
       "2018.4                 32.75  \n",
       "2019.1                 32.89  \n",
       "2019.2                 33.26  \n",
       "2019.3                 33.52  "
      ]
     },
     "execution_count": 3,
     "metadata": {},
     "output_type": "execute_result"
    }
   ],
   "source": [
    "xl.tail()"
   ]
  },
  {
   "cell_type": "markdown",
   "metadata": {},
   "source": [
    "## Here we create our calculated variables we will use in forecasting"
   ]
  },
  {
   "cell_type": "code",
   "execution_count": 4,
   "metadata": {},
   "outputs": [],
   "source": [
    "xl['OFC Service Growth'] = xl['Office-using Services (Jobs x 1000)'].pct_change(periods=4) #stationary\n",
    "xl['Finance Growth'] = xl['Financial Activities (Jobs x 1000)'].pct_change(periods=4) #stationary\n",
    "xl['OFC Emp'] = xl['Financial Activities (Jobs x 1000)'] + xl['Office-using Services (Jobs x 1000)']\n",
    "xl['OFC Emp Growth'] = xl['OFC Emp'].pct_change(periods=4) #stationary\n",
    "xl['Comps %'] = xl['Completions (SF x 1000)']/xl['Stock (SF x 1000)']  #non-stationary\n",
    "xl['Abs %'] = xl['Net Absorption (SF x 1000)']/xl['Stock (SF x 1000)'] #stationary\n",
    "xl['Revenue'] = xl['TW Rent Index ($/SF)']*(1-(xl['Vacancy Rate (%)'])/100) #non-stationary\n",
    "xl['LN Revenue'] = np.log(xl['Revenue']) \n",
    "xl['Revenue Growth'] = xl['Revenue'].pct_change(periods=4) #stationary\n",
    "xl['LN Revenue Growth'] = xl['LN Revenue'].pct_change(periods=4) #stationary\n",
    "xl['Comps MA %'] = xl['Comps %'].rolling(window=4).mean() #stationary\n",
    "xl['Abs MA %'] = xl['Abs %'].rolling(window=4).mean() #stationary\n",
    "# Vacancy Rate is non-stationary"
   ]
  },
  {
   "cell_type": "code",
   "execution_count": 5,
   "metadata": {},
   "outputs": [],
   "source": [
    "xl.drop(xl.head(4).index,inplace=True) # drop n/a cells - they will break forecast"
   ]
  },
  {
   "cell_type": "code",
   "execution_count": 6,
   "metadata": {},
   "outputs": [
    {
     "name": "stderr",
     "output_type": "stream",
     "text": [
      "C:\\Users\\msaia\\AppData\\Local\\Continuum\\anaconda3\\lib\\site-packages\\ipykernel_launcher.py:1: FutureWarning: The signature of `Series.to_csv` was aligned to that of `DataFrame.to_csv`, and argument 'header' will change its default value from False to True: please pass an explicit value to suppress this warning.\n",
      "  \"\"\"Entry point for launching an IPython kernel.\n"
     ]
    }
   ],
   "source": [
    "xl['Revenue Growth'].to_csv(\".../OCHistorical.csv\")"
   ]
  },
  {
   "cell_type": "code",
   "execution_count": 7,
   "metadata": {},
   "outputs": [],
   "source": [
    "# xl['LN Revenue Growth'].plot(figsize=(15,4))"
   ]
  },
  {
   "cell_type": "code",
   "execution_count": 8,
   "metadata": {},
   "outputs": [
    {
     "name": "stdout",
     "output_type": "stream",
     "text": [
      "ADF Statistic: -3.707870\n",
      "p-value: 0.004004\n",
      "Critical Values:\n",
      "\t1%: -3.484\n",
      "\t5%: -2.885\n",
      "\t10%: -2.579\n"
     ]
    }
   ],
   "source": [
    "result = adfuller(xl['Revenue Growth'])\n",
    "print('ADF Statistic: %f' % result[0])\n",
    "print('p-value: %f' % result[1])\n",
    "print('Critical Values:')\n",
    "for key, value in result[4].items():\n",
    "\tprint('\\t%s: %.3f' % (key, value))"
   ]
  },
  {
   "cell_type": "markdown",
   "metadata": {},
   "source": [
    "### Here we prep the data that will go into the first model, select the model, fit the model, and export the model - it's a quick process"
   ]
  },
  {
   "cell_type": "code",
   "execution_count": 9,
   "metadata": {},
   "outputs": [],
   "source": [
    "from statsmodels.tsa.base.datetools import dates_from_str"
   ]
  },
  {
   "cell_type": "code",
   "execution_count": 10,
   "metadata": {},
   "outputs": [],
   "source": [
    "data = xl[['OFC Service Growth', 'Finance Growth', 'Comps MA %', 'Abs MA %', 'Revenue Growth']]"
   ]
  },
  {
   "cell_type": "code",
   "execution_count": 11,
   "metadata": {
    "scrolled": true
   },
   "outputs": [
    {
     "name": "stderr",
     "output_type": "stream",
     "text": [
      "C:\\Users\\msaia\\AppData\\Local\\Continuum\\anaconda3\\lib\\site-packages\\statsmodels\\tsa\\base\\tsa_model.py:221: ValueWarning: An unsupported index was provided and will be ignored when e.g. forecasting.\n",
      "  ' ignored when e.g. forecasting.', ValueWarning)\n"
     ]
    }
   ],
   "source": [
    "model = VAR(data)"
   ]
  },
  {
   "cell_type": "code",
   "execution_count": 12,
   "metadata": {},
   "outputs": [],
   "source": [
    "results = model.fit(maxlags=4, ic='bic')"
   ]
  },
  {
   "cell_type": "code",
   "execution_count": 13,
   "metadata": {},
   "outputs": [],
   "source": [
    "fv = results.fittedvalues"
   ]
  },
  {
   "cell_type": "code",
   "execution_count": 14,
   "metadata": {},
   "outputs": [],
   "source": [
    "fv.to_csv(\".../OCBICFitted.csv\")"
   ]
  },
  {
   "cell_type": "code",
   "execution_count": 15,
   "metadata": {
    "scrolled": true
   },
   "outputs": [],
   "source": [
    "## results.mean()"
   ]
  },
  {
   "cell_type": "code",
   "execution_count": 16,
   "metadata": {},
   "outputs": [],
   "source": [
    "lag_order = results.k_ar\n",
    "a = np.asarray(results.forecast(data.values[-lag_order:], 40))\n",
    "np.savetxt(\".../OCOFCforecastBIC.csv\", a, delimiter=\",\")"
   ]
  },
  {
   "cell_type": "markdown",
   "metadata": {},
   "source": [
    "### Repeat for different optimization"
   ]
  },
  {
   "cell_type": "code",
   "execution_count": 17,
   "metadata": {},
   "outputs": [],
   "source": [
    "results = model.fit(maxlags=4, ic='aic')"
   ]
  },
  {
   "cell_type": "code",
   "execution_count": 18,
   "metadata": {},
   "outputs": [],
   "source": [
    "fv = results.fittedvalues"
   ]
  },
  {
   "cell_type": "code",
   "execution_count": 19,
   "metadata": {},
   "outputs": [],
   "source": [
    "fv.to_csv(\".../OCAICFitted.csv\")"
   ]
  },
  {
   "cell_type": "code",
   "execution_count": 20,
   "metadata": {},
   "outputs": [],
   "source": [
    "lag_order = results.k_ar\n",
    "a = np.asarray(results.forecast(data.values[-lag_order:], 40))\n",
    "np.savetxt(\".../OCOFCforecastAIC.csv\", a, delimiter=\",\")"
   ]
  },
  {
   "cell_type": "markdown",
   "metadata": {},
   "source": [
    "### Run next class of models"
   ]
  },
  {
   "cell_type": "code",
   "execution_count": 21,
   "metadata": {},
   "outputs": [],
   "source": [
    "from statsmodels.tsa.arima_model import ARIMA"
   ]
  },
  {
   "cell_type": "code",
   "execution_count": 22,
   "metadata": {},
   "outputs": [],
   "source": [
    "from statsmodels.tsa.arima_model import ARIMAResults"
   ]
  },
  {
   "cell_type": "code",
   "execution_count": 23,
   "metadata": {},
   "outputs": [],
   "source": [
    "series = xl[['Revenue Growth']]"
   ]
  },
  {
   "cell_type": "code",
   "execution_count": 24,
   "metadata": {},
   "outputs": [
    {
     "name": "stderr",
     "output_type": "stream",
     "text": [
      "C:\\Users\\msaia\\AppData\\Local\\Continuum\\anaconda3\\lib\\site-packages\\statsmodels\\tsa\\base\\tsa_model.py:221: ValueWarning: An unsupported index was provided and will be ignored when e.g. forecasting.\n",
      "  ' ignored when e.g. forecasting.', ValueWarning)\n",
      "C:\\Users\\msaia\\AppData\\Local\\Continuum\\anaconda3\\lib\\site-packages\\statsmodels\\tsa\\base\\tsa_model.py:221: ValueWarning: An unsupported index was provided and will be ignored when e.g. forecasting.\n",
      "  ' ignored when e.g. forecasting.', ValueWarning)\n",
      "C:\\Users\\msaia\\AppData\\Local\\Continuum\\anaconda3\\lib\\site-packages\\statsmodels\\tsa\\base\\tsa_model.py:221: ValueWarning: An unsupported index was provided and will be ignored when e.g. forecasting.\n",
      "  ' ignored when e.g. forecasting.', ValueWarning)\n",
      "C:\\Users\\msaia\\AppData\\Local\\Continuum\\anaconda3\\lib\\site-packages\\statsmodels\\tsa\\base\\tsa_model.py:221: ValueWarning: An unsupported index was provided and will be ignored when e.g. forecasting.\n",
      "  ' ignored when e.g. forecasting.', ValueWarning)\n",
      "C:\\Users\\msaia\\AppData\\Local\\Continuum\\anaconda3\\lib\\site-packages\\statsmodels\\tsa\\base\\tsa_model.py:221: ValueWarning: An unsupported index was provided and will be ignored when e.g. forecasting.\n",
      "  ' ignored when e.g. forecasting.', ValueWarning)\n",
      "C:\\Users\\msaia\\AppData\\Local\\Continuum\\anaconda3\\lib\\site-packages\\statsmodels\\tsa\\base\\tsa_model.py:221: ValueWarning: An unsupported index was provided and will be ignored when e.g. forecasting.\n",
      "  ' ignored when e.g. forecasting.', ValueWarning)\n",
      "C:\\Users\\msaia\\AppData\\Local\\Continuum\\anaconda3\\lib\\site-packages\\statsmodels\\tsa\\base\\tsa_model.py:221: ValueWarning: An unsupported index was provided and will be ignored when e.g. forecasting.\n",
      "  ' ignored when e.g. forecasting.', ValueWarning)\n",
      "C:\\Users\\msaia\\AppData\\Local\\Continuum\\anaconda3\\lib\\site-packages\\statsmodels\\tsa\\base\\tsa_model.py:221: ValueWarning: An unsupported index was provided and will be ignored when e.g. forecasting.\n",
      "  ' ignored when e.g. forecasting.', ValueWarning)\n",
      "C:\\Users\\msaia\\AppData\\Local\\Continuum\\anaconda3\\lib\\site-packages\\statsmodels\\tsa\\base\\tsa_model.py:221: ValueWarning: An unsupported index was provided and will be ignored when e.g. forecasting.\n",
      "  ' ignored when e.g. forecasting.', ValueWarning)\n",
      "C:\\Users\\msaia\\AppData\\Local\\Continuum\\anaconda3\\lib\\site-packages\\statsmodels\\tsa\\base\\tsa_model.py:221: ValueWarning: An unsupported index was provided and will be ignored when e.g. forecasting.\n",
      "  ' ignored when e.g. forecasting.', ValueWarning)\n",
      "C:\\Users\\msaia\\AppData\\Local\\Continuum\\anaconda3\\lib\\site-packages\\statsmodels\\tsa\\base\\tsa_model.py:221: ValueWarning: An unsupported index was provided and will be ignored when e.g. forecasting.\n",
      "  ' ignored when e.g. forecasting.', ValueWarning)\n",
      "C:\\Users\\msaia\\AppData\\Local\\Continuum\\anaconda3\\lib\\site-packages\\statsmodels\\tsa\\base\\tsa_model.py:221: ValueWarning: An unsupported index was provided and will be ignored when e.g. forecasting.\n",
      "  ' ignored when e.g. forecasting.', ValueWarning)\n",
      "C:\\Users\\msaia\\AppData\\Local\\Continuum\\anaconda3\\lib\\site-packages\\statsmodels\\tsa\\base\\tsa_model.py:221: ValueWarning: An unsupported index was provided and will be ignored when e.g. forecasting.\n",
      "  ' ignored when e.g. forecasting.', ValueWarning)\n",
      "C:\\Users\\msaia\\AppData\\Local\\Continuum\\anaconda3\\lib\\site-packages\\statsmodels\\tsa\\base\\tsa_model.py:221: ValueWarning: An unsupported index was provided and will be ignored when e.g. forecasting.\n",
      "  ' ignored when e.g. forecasting.', ValueWarning)\n",
      "C:\\Users\\msaia\\AppData\\Local\\Continuum\\anaconda3\\lib\\site-packages\\statsmodels\\tsa\\base\\tsa_model.py:221: ValueWarning: An unsupported index was provided and will be ignored when e.g. forecasting.\n",
      "  ' ignored when e.g. forecasting.', ValueWarning)\n"
     ]
    }
   ],
   "source": [
    "res = sm.tsa.arma_order_select_ic(series, ic=['aic', 'bic'], trend='nc')"
   ]
  },
  {
   "cell_type": "code",
   "execution_count": 25,
   "metadata": {},
   "outputs": [
    {
     "data": {
      "text/plain": [
       "(4, 1)"
      ]
     },
     "execution_count": 25,
     "metadata": {},
     "output_type": "execute_result"
    }
   ],
   "source": [
    "res.aic_min_order"
   ]
  },
  {
   "cell_type": "code",
   "execution_count": 26,
   "metadata": {},
   "outputs": [
    {
     "data": {
      "text/plain": [
       "(4, 1)"
      ]
     },
     "execution_count": 26,
     "metadata": {},
     "output_type": "execute_result"
    }
   ],
   "source": [
    "res.bic_min_order"
   ]
  },
  {
   "cell_type": "code",
   "execution_count": 27,
   "metadata": {},
   "outputs": [],
   "source": [
    "p = np.asarray(res.aic_min_order[0])"
   ]
  },
  {
   "cell_type": "code",
   "execution_count": 28,
   "metadata": {},
   "outputs": [],
   "source": [
    "q = np.asarray(res.aic_min_order[1])"
   ]
  },
  {
   "cell_type": "code",
   "execution_count": 29,
   "metadata": {
    "scrolled": true
   },
   "outputs": [
    {
     "name": "stderr",
     "output_type": "stream",
     "text": [
      "C:\\Users\\msaia\\AppData\\Local\\Continuum\\anaconda3\\lib\\site-packages\\statsmodels\\tsa\\base\\tsa_model.py:221: ValueWarning: An unsupported index was provided and will be ignored when e.g. forecasting.\n",
      "  ' ignored when e.g. forecasting.', ValueWarning)\n"
     ]
    }
   ],
   "source": [
    "model = ARIMA(series, order = (p,0,q))\n",
    "results_AR = model.fit(disp=0)"
   ]
  },
  {
   "cell_type": "code",
   "execution_count": 30,
   "metadata": {},
   "outputs": [],
   "source": [
    "fv = pd.DataFrame(results_AR.fittedvalues)"
   ]
  },
  {
   "cell_type": "code",
   "execution_count": 31,
   "metadata": {},
   "outputs": [],
   "source": [
    "fv.to_csv(\".../OCARMAAICFitted.csv\")"
   ]
  },
  {
   "cell_type": "code",
   "execution_count": 32,
   "metadata": {},
   "outputs": [],
   "source": [
    "df_forecast = pd.DataFrame(results_AR.forecast(40))"
   ]
  },
  {
   "cell_type": "code",
   "execution_count": 33,
   "metadata": {},
   "outputs": [],
   "source": [
    "df_forecast.T.to_csv(\".../OCOFCforecastARIMA1.csv\")"
   ]
  },
  {
   "cell_type": "markdown",
   "metadata": {},
   "source": [
    "### Repeat for different optimization"
   ]
  },
  {
   "cell_type": "code",
   "execution_count": 34,
   "metadata": {},
   "outputs": [],
   "source": [
    "p = np.asarray(res.bic_min_order[0])"
   ]
  },
  {
   "cell_type": "code",
   "execution_count": 35,
   "metadata": {},
   "outputs": [],
   "source": [
    "q = np.asarray(res.bic_min_order[1])"
   ]
  },
  {
   "cell_type": "code",
   "execution_count": 36,
   "metadata": {},
   "outputs": [
    {
     "name": "stderr",
     "output_type": "stream",
     "text": [
      "C:\\Users\\msaia\\AppData\\Local\\Continuum\\anaconda3\\lib\\site-packages\\statsmodels\\tsa\\base\\tsa_model.py:221: ValueWarning: An unsupported index was provided and will be ignored when e.g. forecasting.\n",
      "  ' ignored when e.g. forecasting.', ValueWarning)\n"
     ]
    }
   ],
   "source": [
    "model = ARIMA(series, order = (p,0,q))\n",
    "results_AR = model.fit(disp=0)"
   ]
  },
  {
   "cell_type": "code",
   "execution_count": 37,
   "metadata": {},
   "outputs": [],
   "source": [
    "fv = pd.DataFrame(results_AR.fittedvalues)"
   ]
  },
  {
   "cell_type": "code",
   "execution_count": 38,
   "metadata": {},
   "outputs": [],
   "source": [
    "fv.to_csv(\".../OCARMABICFitted.csv\")"
   ]
  },
  {
   "cell_type": "code",
   "execution_count": 39,
   "metadata": {},
   "outputs": [],
   "source": [
    "df_forecast = pd.DataFrame(results_AR.forecast(40))"
   ]
  },
  {
   "cell_type": "code",
   "execution_count": 40,
   "metadata": {},
   "outputs": [],
   "source": [
    "df_forecast.T.to_csv(\".../OCOFCforecastARIMA2.csv\")"
   ]
  },
  {
   "cell_type": "markdown",
   "metadata": {},
   "source": [
    "### Now we need to combine all the models into one file"
   ]
  },
  {
   "cell_type": "code",
   "execution_count": 41,
   "metadata": {},
   "outputs": [],
   "source": [
    "files = {\n",
    "    \"date\": pd.read_csv(\".../Date.csv\", squeeze=True),\n",
    "    \"VARAIC\": pd.read_csv(\".../OCOFCforecastAIC.csv\", usecols=[4], header=None, names=[\"VARAIC\"], squeeze=True),\n",
    "    \"ARIMA1\": pd.read_csv(\".../OCOFCforecastARIMA1.csv\", usecols=[1], skiprows=[0], header=None, names=[\"ARIMA1\"], squeeze=True),\n",
    "    \"ARIMA2\": pd.read_csv(\".../OCOFCforecastARIMA2.csv\", usecols=[1], skiprows=[0], header=None, names=[\"ARIMA2\"], squeeze=True),\n",
    "    \"VARBIC\": pd.read_csv(\".../OCOFCforecastBIC.csv\", usecols=[4], header=None, names=[\"VARBIC\"], squeeze=True)\n",
    "}"
   ]
  },
  {
   "cell_type": "code",
   "execution_count": 42,
   "metadata": {},
   "outputs": [],
   "source": [
    "df_OC = pd.concat([files[\"date\"], files[\"VARAIC\"], files[\"VARBIC\"], files[\"ARIMA1\"], files[\"ARIMA2\"]], axis=1)"
   ]
  },
  {
   "cell_type": "code",
   "execution_count": 43,
   "metadata": {},
   "outputs": [],
   "source": [
    "df_OC = df_OC.set_index(\"Date\")"
   ]
  },
  {
   "cell_type": "markdown",
   "metadata": {},
   "source": [
    "### Here we create a simple average of all of the models. Depending on optimization - this gives us 2-5 distinct models to choose from."
   ]
  },
  {
   "cell_type": "code",
   "execution_count": 44,
   "metadata": {},
   "outputs": [
    {
     "data": {
      "text/html": [
       "<div>\n",
       "<style scoped>\n",
       "    .dataframe tbody tr th:only-of-type {\n",
       "        vertical-align: middle;\n",
       "    }\n",
       "\n",
       "    .dataframe tbody tr th {\n",
       "        vertical-align: top;\n",
       "    }\n",
       "\n",
       "    .dataframe thead th {\n",
       "        text-align: right;\n",
       "    }\n",
       "</style>\n",
       "<table border=\"1\" class=\"dataframe\">\n",
       "  <thead>\n",
       "    <tr style=\"text-align: right;\">\n",
       "      <th></th>\n",
       "      <th>VARAIC</th>\n",
       "      <th>VARBIC</th>\n",
       "      <th>ARIMA1</th>\n",
       "      <th>ARIMA2</th>\n",
       "      <th>AVERAGE</th>\n",
       "    </tr>\n",
       "    <tr>\n",
       "      <th>Date</th>\n",
       "      <th></th>\n",
       "      <th></th>\n",
       "      <th></th>\n",
       "      <th></th>\n",
       "      <th></th>\n",
       "    </tr>\n",
       "  </thead>\n",
       "  <tbody>\n",
       "    <tr>\n",
       "      <th>Q4 2019</th>\n",
       "      <td>0.034908</td>\n",
       "      <td>0.030715</td>\n",
       "      <td>0.035920</td>\n",
       "      <td>0.035920</td>\n",
       "      <td>0.034366</td>\n",
       "    </tr>\n",
       "    <tr>\n",
       "      <th>Q1 2020</th>\n",
       "      <td>0.036306</td>\n",
       "      <td>0.028992</td>\n",
       "      <td>0.036285</td>\n",
       "      <td>0.036285</td>\n",
       "      <td>0.034467</td>\n",
       "    </tr>\n",
       "    <tr>\n",
       "      <th>Q2 2020</th>\n",
       "      <td>0.032248</td>\n",
       "      <td>0.027292</td>\n",
       "      <td>0.036807</td>\n",
       "      <td>0.036807</td>\n",
       "      <td>0.033289</td>\n",
       "    </tr>\n",
       "    <tr>\n",
       "      <th>Q3 2020</th>\n",
       "      <td>0.026079</td>\n",
       "      <td>0.025766</td>\n",
       "      <td>0.034972</td>\n",
       "      <td>0.034972</td>\n",
       "      <td>0.030448</td>\n",
       "    </tr>\n",
       "    <tr>\n",
       "      <th>Q4 2020</th>\n",
       "      <td>0.026606</td>\n",
       "      <td>0.024502</td>\n",
       "      <td>0.033474</td>\n",
       "      <td>0.033474</td>\n",
       "      <td>0.029514</td>\n",
       "    </tr>\n",
       "  </tbody>\n",
       "</table>\n",
       "</div>"
      ],
      "text/plain": [
       "           VARAIC    VARBIC    ARIMA1    ARIMA2   AVERAGE\n",
       "Date                                                     \n",
       "Q4 2019  0.034908  0.030715  0.035920  0.035920  0.034366\n",
       "Q1 2020  0.036306  0.028992  0.036285  0.036285  0.034467\n",
       "Q2 2020  0.032248  0.027292  0.036807  0.036807  0.033289\n",
       "Q3 2020  0.026079  0.025766  0.034972  0.034972  0.030448\n",
       "Q4 2020  0.026606  0.024502  0.033474  0.033474  0.029514"
      ]
     },
     "execution_count": 44,
     "metadata": {},
     "output_type": "execute_result"
    }
   ],
   "source": [
    "df_OC['AVERAGE'] = df_OC.mean(axis=1)\n",
    "df_OC.head()"
   ]
  },
  {
   "cell_type": "markdown",
   "metadata": {},
   "source": [
    "## Repeat this process for the SV forecasts\n",
    "### Read in data - including some quick operations to clean up the excel"
   ]
  },
  {
   "cell_type": "code",
   "execution_count": 45,
   "metadata": {},
   "outputs": [],
   "source": [
    "xl = pd.read_excel('.../3Q19DataViewOFC.xlsx',sheet_name=\"SV\", usecols=range(1,9), index_col=0, skiprows=9, skipcol=1)\n",
    "xl.drop(xl.tail(24).index,inplace=True) # drop forecast"
   ]
  },
  {
   "cell_type": "markdown",
   "metadata": {},
   "source": [
    "## Here we create our calculated variables we will use in forecasting"
   ]
  },
  {
   "cell_type": "code",
   "execution_count": 46,
   "metadata": {},
   "outputs": [],
   "source": [
    "xl['OFC Service Growth'] = xl['Office-using Services (Jobs x 1000)'].pct_change(periods=4) #stationary\n",
    "xl['Finance Growth'] = xl['Financial Activities (Jobs x 1000)'].pct_change(periods=4) #stationary\n",
    "xl['OFC Emp'] = xl['Financial Activities (Jobs x 1000)'] + xl['Office-using Services (Jobs x 1000)']\n",
    "xl['OFC Emp Growth'] = xl['OFC Emp'].pct_change(periods=4) #stationary\n",
    "xl['Comps %'] = xl['Completions (SF x 1000)']/xl['Stock (SF x 1000)']  #stationary\n",
    "xl['Abs %'] = xl['Net Absorption (SF x 1000)']/xl['Stock (SF x 1000)'] #stationary\n",
    "xl['Revenue'] = xl['TW Rent Index ($/SF)']*(1-(xl['Vacancy Rate (%)'])/100) \n",
    "xl['LN Revenue'] = np.log(xl['Revenue']) \n",
    "xl['Revenue Growth'] = xl['Revenue'].pct_change(periods=4) #stationary\n",
    "xl['LN Revenue Growth'] = xl['LN Revenue'].pct_change(periods=4) #stationary\n",
    "xl['Comps MA %'] = xl['Comps %'].rolling(window=4).mean() #stationary\n",
    "xl['Abs MA %'] = xl['Abs %'].rolling(window=4).mean() #non-stationary\n",
    "# Vacancy Rate is stationary"
   ]
  },
  {
   "cell_type": "code",
   "execution_count": 47,
   "metadata": {},
   "outputs": [],
   "source": [
    "xl.drop(xl.head(4).index,inplace=True) # drop n/a cells - they will break forecast"
   ]
  },
  {
   "cell_type": "code",
   "execution_count": 48,
   "metadata": {},
   "outputs": [
    {
     "name": "stderr",
     "output_type": "stream",
     "text": [
      "C:\\Users\\msaia\\AppData\\Local\\Continuum\\anaconda3\\lib\\site-packages\\ipykernel_launcher.py:1: FutureWarning: The signature of `Series.to_csv` was aligned to that of `DataFrame.to_csv`, and argument 'header' will change its default value from False to True: please pass an explicit value to suppress this warning.\n",
      "  \"\"\"Entry point for launching an IPython kernel.\n"
     ]
    }
   ],
   "source": [
    "xl['Revenue Growth'].to_csv(\".../SVHistorical.csv\")"
   ]
  },
  {
   "cell_type": "code",
   "execution_count": 49,
   "metadata": {},
   "outputs": [
    {
     "name": "stdout",
     "output_type": "stream",
     "text": [
      "ADF Statistic: -3.792756\n",
      "p-value: 0.002982\n",
      "Critical Values:\n",
      "\t1%: -3.481\n",
      "\t5%: -2.884\n",
      "\t10%: -2.579\n"
     ]
    }
   ],
   "source": [
    "result = adfuller(xl['Vacancy Rate (%)'])\n",
    "print('ADF Statistic: %f' % result[0])\n",
    "print('p-value: %f' % result[1])\n",
    "print('Critical Values:')\n",
    "for key, value in result[4].items():\n",
    "\tprint('\\t%s: %.3f' % (key, value))"
   ]
  },
  {
   "cell_type": "markdown",
   "metadata": {},
   "source": [
    "### Here we prep the data that will go into the first model, select the model, fit the model, and export the model - it's a quick process"
   ]
  },
  {
   "cell_type": "code",
   "execution_count": 50,
   "metadata": {},
   "outputs": [],
   "source": [
    "from statsmodels.tsa.base.datetools import dates_from_str"
   ]
  },
  {
   "cell_type": "code",
   "execution_count": 51,
   "metadata": {},
   "outputs": [],
   "source": [
    "data = xl[['OFC Service Growth', 'Finance Growth', 'Comps MA %', 'Abs MA %', 'Revenue Growth']]"
   ]
  },
  {
   "cell_type": "code",
   "execution_count": 52,
   "metadata": {
    "scrolled": true
   },
   "outputs": [
    {
     "name": "stderr",
     "output_type": "stream",
     "text": [
      "C:\\Users\\msaia\\AppData\\Local\\Continuum\\anaconda3\\lib\\site-packages\\statsmodels\\tsa\\base\\tsa_model.py:221: ValueWarning: An unsupported index was provided and will be ignored when e.g. forecasting.\n",
      "  ' ignored when e.g. forecasting.', ValueWarning)\n"
     ]
    }
   ],
   "source": [
    "model = VAR(data)"
   ]
  },
  {
   "cell_type": "code",
   "execution_count": 53,
   "metadata": {},
   "outputs": [],
   "source": [
    "results = model.fit(maxlags=4, ic='bic')"
   ]
  },
  {
   "cell_type": "code",
   "execution_count": 54,
   "metadata": {},
   "outputs": [],
   "source": [
    "fv = results.fittedvalues"
   ]
  },
  {
   "cell_type": "code",
   "execution_count": 55,
   "metadata": {},
   "outputs": [],
   "source": [
    "fv.to_csv(\".../SVBICFitted.csv\")"
   ]
  },
  {
   "cell_type": "code",
   "execution_count": 56,
   "metadata": {},
   "outputs": [],
   "source": [
    "lag_order = results.k_ar\n",
    "a = np.asarray(results.forecast(data.values[-lag_order:], 40))\n",
    "np.savetxt(\".../SVOFCforecastBIC.csv\", a, delimiter=\",\")"
   ]
  },
  {
   "cell_type": "markdown",
   "metadata": {},
   "source": [
    "### Repeat for different optimization"
   ]
  },
  {
   "cell_type": "code",
   "execution_count": 57,
   "metadata": {},
   "outputs": [],
   "source": [
    "results = model.fit(maxlags=4, ic='aic')"
   ]
  },
  {
   "cell_type": "code",
   "execution_count": 58,
   "metadata": {},
   "outputs": [],
   "source": [
    "fv = results.fittedvalues"
   ]
  },
  {
   "cell_type": "code",
   "execution_count": 59,
   "metadata": {},
   "outputs": [],
   "source": [
    "fv.to_csv(\".../SVAICFitted.csv\")"
   ]
  },
  {
   "cell_type": "code",
   "execution_count": 60,
   "metadata": {},
   "outputs": [],
   "source": [
    "lag_order = results.k_ar\n",
    "a = np.asarray(results.forecast(data.values[-lag_order:], 40))\n",
    "np.savetxt(\".../SVOFCforecastAIC.csv\", a, delimiter=\",\")"
   ]
  },
  {
   "cell_type": "markdown",
   "metadata": {},
   "source": [
    "### Run next class of models"
   ]
  },
  {
   "cell_type": "code",
   "execution_count": 61,
   "metadata": {},
   "outputs": [],
   "source": [
    "from statsmodels.tsa.arima_model import ARIMA"
   ]
  },
  {
   "cell_type": "code",
   "execution_count": 62,
   "metadata": {},
   "outputs": [],
   "source": [
    "from statsmodels.tsa.arima_model import ARIMAResults"
   ]
  },
  {
   "cell_type": "code",
   "execution_count": 63,
   "metadata": {},
   "outputs": [],
   "source": [
    "series = xl[['Revenue Growth']]"
   ]
  },
  {
   "cell_type": "code",
   "execution_count": 64,
   "metadata": {},
   "outputs": [
    {
     "name": "stderr",
     "output_type": "stream",
     "text": [
      "C:\\Users\\msaia\\AppData\\Local\\Continuum\\anaconda3\\lib\\site-packages\\statsmodels\\tsa\\base\\tsa_model.py:221: ValueWarning: An unsupported index was provided and will be ignored when e.g. forecasting.\n",
      "  ' ignored when e.g. forecasting.', ValueWarning)\n",
      "C:\\Users\\msaia\\AppData\\Local\\Continuum\\anaconda3\\lib\\site-packages\\statsmodels\\tsa\\base\\tsa_model.py:221: ValueWarning: An unsupported index was provided and will be ignored when e.g. forecasting.\n",
      "  ' ignored when e.g. forecasting.', ValueWarning)\n",
      "C:\\Users\\msaia\\AppData\\Local\\Continuum\\anaconda3\\lib\\site-packages\\statsmodels\\tsa\\base\\tsa_model.py:221: ValueWarning: An unsupported index was provided and will be ignored when e.g. forecasting.\n",
      "  ' ignored when e.g. forecasting.', ValueWarning)\n",
      "C:\\Users\\msaia\\AppData\\Local\\Continuum\\anaconda3\\lib\\site-packages\\statsmodels\\tsa\\base\\tsa_model.py:221: ValueWarning: An unsupported index was provided and will be ignored when e.g. forecasting.\n",
      "  ' ignored when e.g. forecasting.', ValueWarning)\n",
      "C:\\Users\\msaia\\AppData\\Local\\Continuum\\anaconda3\\lib\\site-packages\\statsmodels\\tsa\\base\\tsa_model.py:221: ValueWarning: An unsupported index was provided and will be ignored when e.g. forecasting.\n",
      "  ' ignored when e.g. forecasting.', ValueWarning)\n",
      "C:\\Users\\msaia\\AppData\\Local\\Continuum\\anaconda3\\lib\\site-packages\\statsmodels\\tsa\\base\\tsa_model.py:221: ValueWarning: An unsupported index was provided and will be ignored when e.g. forecasting.\n",
      "  ' ignored when e.g. forecasting.', ValueWarning)\n",
      "C:\\Users\\msaia\\AppData\\Local\\Continuum\\anaconda3\\lib\\site-packages\\statsmodels\\tsa\\base\\tsa_model.py:221: ValueWarning: An unsupported index was provided and will be ignored when e.g. forecasting.\n",
      "  ' ignored when e.g. forecasting.', ValueWarning)\n",
      "C:\\Users\\msaia\\AppData\\Local\\Continuum\\anaconda3\\lib\\site-packages\\statsmodels\\tsa\\base\\tsa_model.py:221: ValueWarning: An unsupported index was provided and will be ignored when e.g. forecasting.\n",
      "  ' ignored when e.g. forecasting.', ValueWarning)\n",
      "C:\\Users\\msaia\\AppData\\Local\\Continuum\\anaconda3\\lib\\site-packages\\statsmodels\\tsa\\base\\tsa_model.py:221: ValueWarning: An unsupported index was provided and will be ignored when e.g. forecasting.\n",
      "  ' ignored when e.g. forecasting.', ValueWarning)\n",
      "C:\\Users\\msaia\\AppData\\Local\\Continuum\\anaconda3\\lib\\site-packages\\statsmodels\\tsa\\base\\tsa_model.py:221: ValueWarning: An unsupported index was provided and will be ignored when e.g. forecasting.\n",
      "  ' ignored when e.g. forecasting.', ValueWarning)\n",
      "C:\\Users\\msaia\\AppData\\Local\\Continuum\\anaconda3\\lib\\site-packages\\statsmodels\\tsa\\base\\tsa_model.py:221: ValueWarning: An unsupported index was provided and will be ignored when e.g. forecasting.\n",
      "  ' ignored when e.g. forecasting.', ValueWarning)\n",
      "C:\\Users\\msaia\\AppData\\Local\\Continuum\\anaconda3\\lib\\site-packages\\statsmodels\\tsa\\base\\tsa_model.py:221: ValueWarning: An unsupported index was provided and will be ignored when e.g. forecasting.\n",
      "  ' ignored when e.g. forecasting.', ValueWarning)\n",
      "C:\\Users\\msaia\\AppData\\Local\\Continuum\\anaconda3\\lib\\site-packages\\statsmodels\\tsa\\base\\tsa_model.py:221: ValueWarning: An unsupported index was provided and will be ignored when e.g. forecasting.\n",
      "  ' ignored when e.g. forecasting.', ValueWarning)\n",
      "C:\\Users\\msaia\\AppData\\Local\\Continuum\\anaconda3\\lib\\site-packages\\statsmodels\\tsa\\base\\tsa_model.py:221: ValueWarning: An unsupported index was provided and will be ignored when e.g. forecasting.\n",
      "  ' ignored when e.g. forecasting.', ValueWarning)\n",
      "C:\\Users\\msaia\\AppData\\Local\\Continuum\\anaconda3\\lib\\site-packages\\statsmodels\\tsa\\base\\tsa_model.py:221: ValueWarning: An unsupported index was provided and will be ignored when e.g. forecasting.\n",
      "  ' ignored when e.g. forecasting.', ValueWarning)\n"
     ]
    }
   ],
   "source": [
    "res = sm.tsa.arma_order_select_ic(series, ic=['aic', 'bic'], trend='nc')"
   ]
  },
  {
   "cell_type": "code",
   "execution_count": 65,
   "metadata": {},
   "outputs": [
    {
     "data": {
      "text/plain": [
       "(4, 2)"
      ]
     },
     "execution_count": 65,
     "metadata": {},
     "output_type": "execute_result"
    }
   ],
   "source": [
    "res.aic_min_order"
   ]
  },
  {
   "cell_type": "code",
   "execution_count": 66,
   "metadata": {},
   "outputs": [
    {
     "data": {
      "text/plain": [
       "(2, 2)"
      ]
     },
     "execution_count": 66,
     "metadata": {},
     "output_type": "execute_result"
    }
   ],
   "source": [
    "res.bic_min_order"
   ]
  },
  {
   "cell_type": "code",
   "execution_count": 67,
   "metadata": {},
   "outputs": [],
   "source": [
    "p = np.asarray(res.aic_min_order[0])"
   ]
  },
  {
   "cell_type": "code",
   "execution_count": 68,
   "metadata": {},
   "outputs": [],
   "source": [
    "q = np.asarray(res.aic_min_order[1])"
   ]
  },
  {
   "cell_type": "code",
   "execution_count": 69,
   "metadata": {},
   "outputs": [
    {
     "name": "stderr",
     "output_type": "stream",
     "text": [
      "C:\\Users\\msaia\\AppData\\Local\\Continuum\\anaconda3\\lib\\site-packages\\statsmodels\\tsa\\base\\tsa_model.py:221: ValueWarning: An unsupported index was provided and will be ignored when e.g. forecasting.\n",
      "  ' ignored when e.g. forecasting.', ValueWarning)\n"
     ]
    }
   ],
   "source": [
    "model = ARIMA(series, order = (p,0,q))\n",
    "results_AR = model.fit(disp=0)"
   ]
  },
  {
   "cell_type": "code",
   "execution_count": 70,
   "metadata": {},
   "outputs": [],
   "source": [
    "fv = pd.DataFrame(results_AR.fittedvalues)"
   ]
  },
  {
   "cell_type": "code",
   "execution_count": 71,
   "metadata": {},
   "outputs": [],
   "source": [
    "fv.to_csv(\".../SVARMAAICFitted.csv\")"
   ]
  },
  {
   "cell_type": "code",
   "execution_count": 72,
   "metadata": {},
   "outputs": [],
   "source": [
    "df_forecast = pd.DataFrame(results_AR.forecast(40))"
   ]
  },
  {
   "cell_type": "code",
   "execution_count": 73,
   "metadata": {},
   "outputs": [],
   "source": [
    "df_forecast.T.to_csv(\".../SVOFCforecastARIMA1.csv\")"
   ]
  },
  {
   "cell_type": "markdown",
   "metadata": {},
   "source": [
    "### Repeat for different optimization"
   ]
  },
  {
   "cell_type": "code",
   "execution_count": 74,
   "metadata": {},
   "outputs": [],
   "source": [
    "p = np.asarray(res.bic_min_order[0])"
   ]
  },
  {
   "cell_type": "code",
   "execution_count": 75,
   "metadata": {},
   "outputs": [],
   "source": [
    "q = np.asarray(res.bic_min_order[1])"
   ]
  },
  {
   "cell_type": "code",
   "execution_count": 76,
   "metadata": {},
   "outputs": [
    {
     "name": "stderr",
     "output_type": "stream",
     "text": [
      "C:\\Users\\msaia\\AppData\\Local\\Continuum\\anaconda3\\lib\\site-packages\\statsmodels\\tsa\\base\\tsa_model.py:221: ValueWarning: An unsupported index was provided and will be ignored when e.g. forecasting.\n",
      "  ' ignored when e.g. forecasting.', ValueWarning)\n"
     ]
    }
   ],
   "source": [
    "model = ARIMA(series, order = (p,0,q))\n",
    "results_AR = model.fit(disp=0)"
   ]
  },
  {
   "cell_type": "code",
   "execution_count": 77,
   "metadata": {},
   "outputs": [],
   "source": [
    "fv = pd.DataFrame(results_AR.fittedvalues)"
   ]
  },
  {
   "cell_type": "code",
   "execution_count": 78,
   "metadata": {},
   "outputs": [],
   "source": [
    "fv.to_csv(\".../SVARMABICFitted.csv\")"
   ]
  },
  {
   "cell_type": "code",
   "execution_count": 79,
   "metadata": {},
   "outputs": [],
   "source": [
    "df_forecast = pd.DataFrame(results_AR.forecast(40))"
   ]
  },
  {
   "cell_type": "code",
   "execution_count": 80,
   "metadata": {},
   "outputs": [],
   "source": [
    "df_forecast.T.to_csv(\".../SVOFCforecastARIMA2.csv\")"
   ]
  },
  {
   "cell_type": "markdown",
   "metadata": {},
   "source": [
    "### Now we need to combine all the models into one file"
   ]
  },
  {
   "cell_type": "code",
   "execution_count": 81,
   "metadata": {},
   "outputs": [],
   "source": [
    "files = {\n",
    "    \"date\": pd.read_csv(\".../Date.csv\", squeeze=True),\n",
    "    \"VARAIC\": pd.read_csv(\".../SVOFCforecastAIC.csv\", usecols=[4], header=None, names=[\"VARAIC\"], squeeze=True),\n",
    "    \"ARIMA1\": pd.read_csv(\".../SVOFCforecastARIMA1.csv\", usecols=[1], skiprows=[0], header=None, names=[\"ARIMA1\"], squeeze=True),\n",
    "    \"ARIMA2\": pd.read_csv(\".../SVOFCforecastARIMA2.csv\", usecols=[1], skiprows=[0], header=None, names=[\"ARIMA2\"], squeeze=True),\n",
    "    \"VARBIC\": pd.read_csv(\".../SVOFCforecastBIC.csv\", usecols=[4], header=None, names=[\"VARBIC\"], squeeze=True)\n",
    "}"
   ]
  },
  {
   "cell_type": "code",
   "execution_count": 82,
   "metadata": {},
   "outputs": [],
   "source": [
    "df_SV = pd.concat([files[\"date\"], files[\"VARAIC\"], files[\"VARBIC\"], files[\"ARIMA1\"], files[\"ARIMA2\"]], axis=1)"
   ]
  },
  {
   "cell_type": "code",
   "execution_count": 83,
   "metadata": {},
   "outputs": [],
   "source": [
    "df_SV = df_SV.set_index(\"Date\")"
   ]
  },
  {
   "cell_type": "markdown",
   "metadata": {},
   "source": [
    "### Here we create a simple average of all of the models. Depending on optimization - this gives us 2-5 distinct models to choose from."
   ]
  },
  {
   "cell_type": "code",
   "execution_count": 84,
   "metadata": {},
   "outputs": [
    {
     "data": {
      "text/html": [
       "<div>\n",
       "<style scoped>\n",
       "    .dataframe tbody tr th:only-of-type {\n",
       "        vertical-align: middle;\n",
       "    }\n",
       "\n",
       "    .dataframe tbody tr th {\n",
       "        vertical-align: top;\n",
       "    }\n",
       "\n",
       "    .dataframe thead th {\n",
       "        text-align: right;\n",
       "    }\n",
       "</style>\n",
       "<table border=\"1\" class=\"dataframe\">\n",
       "  <thead>\n",
       "    <tr style=\"text-align: right;\">\n",
       "      <th></th>\n",
       "      <th>VARAIC</th>\n",
       "      <th>VARBIC</th>\n",
       "      <th>ARIMA1</th>\n",
       "      <th>ARIMA2</th>\n",
       "      <th>AVERAGE</th>\n",
       "    </tr>\n",
       "    <tr>\n",
       "      <th>Date</th>\n",
       "      <th></th>\n",
       "      <th></th>\n",
       "      <th></th>\n",
       "      <th></th>\n",
       "      <th></th>\n",
       "    </tr>\n",
       "  </thead>\n",
       "  <tbody>\n",
       "    <tr>\n",
       "      <th>Q4 2019</th>\n",
       "      <td>0.072556</td>\n",
       "      <td>0.072556</td>\n",
       "      <td>0.090852</td>\n",
       "      <td>0.090642</td>\n",
       "      <td>0.081651</td>\n",
       "    </tr>\n",
       "    <tr>\n",
       "      <th>Q1 2020</th>\n",
       "      <td>0.050484</td>\n",
       "      <td>0.050484</td>\n",
       "      <td>0.064047</td>\n",
       "      <td>0.066919</td>\n",
       "      <td>0.057984</td>\n",
       "    </tr>\n",
       "    <tr>\n",
       "      <th>Q2 2020</th>\n",
       "      <td>0.038337</td>\n",
       "      <td>0.038337</td>\n",
       "      <td>0.039925</td>\n",
       "      <td>0.046290</td>\n",
       "      <td>0.040723</td>\n",
       "    </tr>\n",
       "    <tr>\n",
       "      <th>Q3 2020</th>\n",
       "      <td>0.032630</td>\n",
       "      <td>0.032630</td>\n",
       "      <td>0.028297</td>\n",
       "      <td>0.032784</td>\n",
       "      <td>0.031585</td>\n",
       "    </tr>\n",
       "    <tr>\n",
       "      <th>Q4 2020</th>\n",
       "      <td>0.030000</td>\n",
       "      <td>0.030000</td>\n",
       "      <td>0.022395</td>\n",
       "      <td>0.026639</td>\n",
       "      <td>0.027258</td>\n",
       "    </tr>\n",
       "  </tbody>\n",
       "</table>\n",
       "</div>"
      ],
      "text/plain": [
       "           VARAIC    VARBIC    ARIMA1    ARIMA2   AVERAGE\n",
       "Date                                                     \n",
       "Q4 2019  0.072556  0.072556  0.090852  0.090642  0.081651\n",
       "Q1 2020  0.050484  0.050484  0.064047  0.066919  0.057984\n",
       "Q2 2020  0.038337  0.038337  0.039925  0.046290  0.040723\n",
       "Q3 2020  0.032630  0.032630  0.028297  0.032784  0.031585\n",
       "Q4 2020  0.030000  0.030000  0.022395  0.026639  0.027258"
      ]
     },
     "execution_count": 84,
     "metadata": {},
     "output_type": "execute_result"
    }
   ],
   "source": [
    "df_SV['AVERAGE'] = df_SV.mean(axis=1)\n",
    "df_SV.head()"
   ]
  },
  {
   "cell_type": "markdown",
   "metadata": {},
   "source": [
    "## Repeat this process for the SD forecasts\n",
    "### Read in data - including some quick operations to clean up the excel"
   ]
  },
  {
   "cell_type": "code",
   "execution_count": 85,
   "metadata": {},
   "outputs": [],
   "source": [
    "xl = pd.read_excel('.../3Q19DataViewOFC.xlsx',sheet_name=\"SD\", usecols=range(1,9), index_col=0, skiprows=9, skipcol=1)\n",
    "xl.drop(xl.tail(24).index,inplace=True) # drop forecast"
   ]
  },
  {
   "cell_type": "markdown",
   "metadata": {},
   "source": [
    "## Here we create our calculated variables we will use in forecasting"
   ]
  },
  {
   "cell_type": "code",
   "execution_count": 86,
   "metadata": {},
   "outputs": [],
   "source": [
    "xl['OFC Service Growth'] = xl['Office-using Services (Jobs x 1000)'].pct_change(periods=4) #non-stationary\n",
    "xl['Finance Growth'] = xl['Financial Activities (Jobs x 1000)'].pct_change(periods=4) #non-stationary\n",
    "xl['OFC Emp'] = xl['Financial Activities (Jobs x 1000)'] + xl['Office-using Services (Jobs x 1000)']\n",
    "xl['OFC Emp Growth'] = xl['OFC Emp'].pct_change(periods=4) #non-stationary\n",
    "xl['Comps %'] = xl['Completions (SF x 1000)']/xl['Stock (SF x 1000)']  #stationary\n",
    "xl['Abs %'] = xl['Net Absorption (SF x 1000)']/xl['Stock (SF x 1000)'] #stationary\n",
    "xl['Revenue'] = xl['TW Rent Index ($/SF)']*(1-(xl['Vacancy Rate (%)'])/100) \n",
    "xl['LN Revenue'] = np.log(xl['Revenue']) \n",
    "xl['Revenue Growth'] = xl['Revenue'].pct_change(periods=4) #non-stationary\n",
    "xl['LN Revenue Growth'] = xl['LN Revenue'].pct_change(periods=4) #non-stationary\n",
    "xl['Comps MA %'] = xl['Comps %'].rolling(window=4).mean() #non-stationary\n",
    "xl['Abs MA %'] = xl['Abs %'].rolling(window=4).mean() #non-stationary\n",
    "# Vacancy Rate is non-stationary"
   ]
  },
  {
   "cell_type": "code",
   "execution_count": 87,
   "metadata": {},
   "outputs": [],
   "source": [
    "xl.drop(xl.head(4).index,inplace=True) # drop n/a cells - they will break forecast"
   ]
  },
  {
   "cell_type": "code",
   "execution_count": 88,
   "metadata": {},
   "outputs": [
    {
     "name": "stderr",
     "output_type": "stream",
     "text": [
      "C:\\Users\\msaia\\AppData\\Local\\Continuum\\anaconda3\\lib\\site-packages\\ipykernel_launcher.py:1: FutureWarning: The signature of `Series.to_csv` was aligned to that of `DataFrame.to_csv`, and argument 'header' will change its default value from False to True: please pass an explicit value to suppress this warning.\n",
      "  \"\"\"Entry point for launching an IPython kernel.\n"
     ]
    }
   ],
   "source": [
    "xl['Revenue Growth'].to_csv(\".../SDHistorical.csv\")"
   ]
  },
  {
   "cell_type": "code",
   "execution_count": 89,
   "metadata": {},
   "outputs": [
    {
     "name": "stdout",
     "output_type": "stream",
     "text": [
      "ADF Statistic: -2.502258\n",
      "p-value: 0.114926\n",
      "Critical Values:\n",
      "\t1%: -3.482\n",
      "\t5%: -2.884\n",
      "\t10%: -2.579\n"
     ]
    }
   ],
   "source": [
    "result = adfuller(xl['Abs MA %'])\n",
    "print('ADF Statistic: %f' % result[0])\n",
    "print('p-value: %f' % result[1])\n",
    "print('Critical Values:')\n",
    "for key, value in result[4].items():\n",
    "\tprint('\\t%s: %.3f' % (key, value))"
   ]
  },
  {
   "cell_type": "markdown",
   "metadata": {},
   "source": [
    "### Here we prep the data that will go into the first model, select the model, fit the model, and export the model - it's a quick process"
   ]
  },
  {
   "cell_type": "code",
   "execution_count": 90,
   "metadata": {},
   "outputs": [],
   "source": [
    "from statsmodels.tsa.base.datetools import dates_from_str"
   ]
  },
  {
   "cell_type": "code",
   "execution_count": 91,
   "metadata": {},
   "outputs": [],
   "source": [
    "data = xl[['OFC Service Growth', 'Finance Growth', 'Comps MA %', 'Abs MA %', 'Revenue Growth']]"
   ]
  },
  {
   "cell_type": "code",
   "execution_count": 92,
   "metadata": {
    "scrolled": true
   },
   "outputs": [
    {
     "name": "stderr",
     "output_type": "stream",
     "text": [
      "C:\\Users\\msaia\\AppData\\Local\\Continuum\\anaconda3\\lib\\site-packages\\statsmodels\\tsa\\base\\tsa_model.py:221: ValueWarning: An unsupported index was provided and will be ignored when e.g. forecasting.\n",
      "  ' ignored when e.g. forecasting.', ValueWarning)\n"
     ]
    }
   ],
   "source": [
    "model = VAR(data)"
   ]
  },
  {
   "cell_type": "code",
   "execution_count": 93,
   "metadata": {},
   "outputs": [],
   "source": [
    "results = model.fit(maxlags=4, ic='bic')"
   ]
  },
  {
   "cell_type": "code",
   "execution_count": 94,
   "metadata": {},
   "outputs": [],
   "source": [
    "fv = results.fittedvalues"
   ]
  },
  {
   "cell_type": "code",
   "execution_count": 95,
   "metadata": {},
   "outputs": [],
   "source": [
    "fv.to_csv(\".../SDBICFitted.csv\")"
   ]
  },
  {
   "cell_type": "code",
   "execution_count": 96,
   "metadata": {},
   "outputs": [],
   "source": [
    "lag_order = results.k_ar\n",
    "a = np.asarray(results.forecast(data.values[-lag_order:], 40))\n",
    "np.savetxt(\".../SDOFCforecastBIC.csv\", a, delimiter=\",\")"
   ]
  },
  {
   "cell_type": "markdown",
   "metadata": {},
   "source": [
    "### Repeat for different optimization"
   ]
  },
  {
   "cell_type": "code",
   "execution_count": 97,
   "metadata": {},
   "outputs": [],
   "source": [
    "results = model.fit(maxlags=4, ic='aic')"
   ]
  },
  {
   "cell_type": "code",
   "execution_count": 98,
   "metadata": {},
   "outputs": [],
   "source": [
    "fv = results.fittedvalues"
   ]
  },
  {
   "cell_type": "code",
   "execution_count": 99,
   "metadata": {},
   "outputs": [],
   "source": [
    "fv.to_csv(\".../SDAICFitted.csv\")"
   ]
  },
  {
   "cell_type": "code",
   "execution_count": 100,
   "metadata": {},
   "outputs": [],
   "source": [
    "lag_order = results.k_ar\n",
    "a = np.asarray(results.forecast(data.values[-lag_order:], 40))\n",
    "np.savetxt(\".../SDOFCforecastAIC.csv\", a, delimiter=\",\")"
   ]
  },
  {
   "cell_type": "markdown",
   "metadata": {},
   "source": [
    "### Run next class of models"
   ]
  },
  {
   "cell_type": "code",
   "execution_count": 101,
   "metadata": {},
   "outputs": [],
   "source": [
    "from statsmodels.tsa.arima_model import ARIMA"
   ]
  },
  {
   "cell_type": "code",
   "execution_count": 102,
   "metadata": {},
   "outputs": [],
   "source": [
    "from statsmodels.tsa.arima_model import ARIMAResults"
   ]
  },
  {
   "cell_type": "code",
   "execution_count": 103,
   "metadata": {},
   "outputs": [],
   "source": [
    "series = xl[['Revenue Growth']]"
   ]
  },
  {
   "cell_type": "code",
   "execution_count": 104,
   "metadata": {},
   "outputs": [
    {
     "name": "stderr",
     "output_type": "stream",
     "text": [
      "C:\\Users\\msaia\\AppData\\Local\\Continuum\\anaconda3\\lib\\site-packages\\statsmodels\\tsa\\base\\tsa_model.py:221: ValueWarning: An unsupported index was provided and will be ignored when e.g. forecasting.\n",
      "  ' ignored when e.g. forecasting.', ValueWarning)\n",
      "C:\\Users\\msaia\\AppData\\Local\\Continuum\\anaconda3\\lib\\site-packages\\statsmodels\\tsa\\base\\tsa_model.py:221: ValueWarning: An unsupported index was provided and will be ignored when e.g. forecasting.\n",
      "  ' ignored when e.g. forecasting.', ValueWarning)\n",
      "C:\\Users\\msaia\\AppData\\Local\\Continuum\\anaconda3\\lib\\site-packages\\statsmodels\\tsa\\base\\tsa_model.py:221: ValueWarning: An unsupported index was provided and will be ignored when e.g. forecasting.\n",
      "  ' ignored when e.g. forecasting.', ValueWarning)\n",
      "C:\\Users\\msaia\\AppData\\Local\\Continuum\\anaconda3\\lib\\site-packages\\statsmodels\\tsa\\base\\tsa_model.py:221: ValueWarning: An unsupported index was provided and will be ignored when e.g. forecasting.\n",
      "  ' ignored when e.g. forecasting.', ValueWarning)\n",
      "C:\\Users\\msaia\\AppData\\Local\\Continuum\\anaconda3\\lib\\site-packages\\statsmodels\\tsa\\base\\tsa_model.py:221: ValueWarning: An unsupported index was provided and will be ignored when e.g. forecasting.\n",
      "  ' ignored when e.g. forecasting.', ValueWarning)\n",
      "C:\\Users\\msaia\\AppData\\Local\\Continuum\\anaconda3\\lib\\site-packages\\statsmodels\\tsa\\base\\tsa_model.py:221: ValueWarning: An unsupported index was provided and will be ignored when e.g. forecasting.\n",
      "  ' ignored when e.g. forecasting.', ValueWarning)\n",
      "C:\\Users\\msaia\\AppData\\Local\\Continuum\\anaconda3\\lib\\site-packages\\statsmodels\\tsa\\base\\tsa_model.py:221: ValueWarning: An unsupported index was provided and will be ignored when e.g. forecasting.\n",
      "  ' ignored when e.g. forecasting.', ValueWarning)\n",
      "C:\\Users\\msaia\\AppData\\Local\\Continuum\\anaconda3\\lib\\site-packages\\statsmodels\\tsa\\base\\tsa_model.py:221: ValueWarning: An unsupported index was provided and will be ignored when e.g. forecasting.\n",
      "  ' ignored when e.g. forecasting.', ValueWarning)\n",
      "C:\\Users\\msaia\\AppData\\Local\\Continuum\\anaconda3\\lib\\site-packages\\statsmodels\\tsa\\base\\tsa_model.py:221: ValueWarning: An unsupported index was provided and will be ignored when e.g. forecasting.\n",
      "  ' ignored when e.g. forecasting.', ValueWarning)\n",
      "C:\\Users\\msaia\\AppData\\Local\\Continuum\\anaconda3\\lib\\site-packages\\statsmodels\\tsa\\base\\tsa_model.py:221: ValueWarning: An unsupported index was provided and will be ignored when e.g. forecasting.\n",
      "  ' ignored when e.g. forecasting.', ValueWarning)\n",
      "C:\\Users\\msaia\\AppData\\Local\\Continuum\\anaconda3\\lib\\site-packages\\statsmodels\\tsa\\base\\tsa_model.py:221: ValueWarning: An unsupported index was provided and will be ignored when e.g. forecasting.\n",
      "  ' ignored when e.g. forecasting.', ValueWarning)\n",
      "C:\\Users\\msaia\\AppData\\Local\\Continuum\\anaconda3\\lib\\site-packages\\statsmodels\\tsa\\base\\tsa_model.py:221: ValueWarning: An unsupported index was provided and will be ignored when e.g. forecasting.\n",
      "  ' ignored when e.g. forecasting.', ValueWarning)\n",
      "C:\\Users\\msaia\\AppData\\Local\\Continuum\\anaconda3\\lib\\site-packages\\statsmodels\\base\\model.py:488: HessianInversionWarning: Inverting hessian failed, no bse or cov_params available\n",
      "  'available', HessianInversionWarning)\n",
      "C:\\Users\\msaia\\AppData\\Local\\Continuum\\anaconda3\\lib\\site-packages\\statsmodels\\tsa\\base\\tsa_model.py:221: ValueWarning: An unsupported index was provided and will be ignored when e.g. forecasting.\n",
      "  ' ignored when e.g. forecasting.', ValueWarning)\n",
      "C:\\Users\\msaia\\AppData\\Local\\Continuum\\anaconda3\\lib\\site-packages\\statsmodels\\tsa\\base\\tsa_model.py:221: ValueWarning: An unsupported index was provided and will be ignored when e.g. forecasting.\n",
      "  ' ignored when e.g. forecasting.', ValueWarning)\n",
      "C:\\Users\\msaia\\AppData\\Local\\Continuum\\anaconda3\\lib\\site-packages\\statsmodels\\tsa\\base\\tsa_model.py:221: ValueWarning: An unsupported index was provided and will be ignored when e.g. forecasting.\n",
      "  ' ignored when e.g. forecasting.', ValueWarning)\n"
     ]
    }
   ],
   "source": [
    "res = sm.tsa.arma_order_select_ic(series, ic=['aic', 'bic'], trend='nc')"
   ]
  },
  {
   "cell_type": "code",
   "execution_count": 105,
   "metadata": {},
   "outputs": [
    {
     "data": {
      "text/plain": [
       "(4, 2)"
      ]
     },
     "execution_count": 105,
     "metadata": {},
     "output_type": "execute_result"
    }
   ],
   "source": [
    "res.aic_min_order"
   ]
  },
  {
   "cell_type": "code",
   "execution_count": 106,
   "metadata": {},
   "outputs": [
    {
     "data": {
      "text/plain": [
       "(4, 2)"
      ]
     },
     "execution_count": 106,
     "metadata": {},
     "output_type": "execute_result"
    }
   ],
   "source": [
    "res.bic_min_order"
   ]
  },
  {
   "cell_type": "code",
   "execution_count": 107,
   "metadata": {},
   "outputs": [],
   "source": [
    "p = np.asarray(res.aic_min_order[0])"
   ]
  },
  {
   "cell_type": "code",
   "execution_count": 108,
   "metadata": {},
   "outputs": [],
   "source": [
    "q = np.asarray(res.aic_min_order[1])"
   ]
  },
  {
   "cell_type": "code",
   "execution_count": 109,
   "metadata": {},
   "outputs": [
    {
     "name": "stderr",
     "output_type": "stream",
     "text": [
      "C:\\Users\\msaia\\AppData\\Local\\Continuum\\anaconda3\\lib\\site-packages\\statsmodels\\tsa\\base\\tsa_model.py:221: ValueWarning: An unsupported index was provided and will be ignored when e.g. forecasting.\n",
      "  ' ignored when e.g. forecasting.', ValueWarning)\n"
     ]
    }
   ],
   "source": [
    "model = ARIMA(series, order = (p,0,q))\n",
    "results_AR = model.fit(disp=0)"
   ]
  },
  {
   "cell_type": "code",
   "execution_count": 110,
   "metadata": {},
   "outputs": [],
   "source": [
    "fv = pd.DataFrame(results_AR.fittedvalues)"
   ]
  },
  {
   "cell_type": "code",
   "execution_count": 111,
   "metadata": {},
   "outputs": [],
   "source": [
    "fv.to_csv(\".../SDARMAAICFitted.csv\")"
   ]
  },
  {
   "cell_type": "code",
   "execution_count": 112,
   "metadata": {},
   "outputs": [],
   "source": [
    "df_forecast = pd.DataFrame(results_AR.forecast(40))"
   ]
  },
  {
   "cell_type": "code",
   "execution_count": 113,
   "metadata": {},
   "outputs": [],
   "source": [
    "df_forecast.T.to_csv(\".../SDOFCforecastARIMA1.csv\")"
   ]
  },
  {
   "cell_type": "markdown",
   "metadata": {},
   "source": [
    "### Repeat for different optimization"
   ]
  },
  {
   "cell_type": "code",
   "execution_count": 114,
   "metadata": {},
   "outputs": [],
   "source": [
    "p = np.asarray(res.bic_min_order[0])"
   ]
  },
  {
   "cell_type": "code",
   "execution_count": 115,
   "metadata": {},
   "outputs": [],
   "source": [
    "q = np.asarray(res.bic_min_order[1])"
   ]
  },
  {
   "cell_type": "code",
   "execution_count": 116,
   "metadata": {},
   "outputs": [
    {
     "name": "stderr",
     "output_type": "stream",
     "text": [
      "C:\\Users\\msaia\\AppData\\Local\\Continuum\\anaconda3\\lib\\site-packages\\statsmodels\\tsa\\base\\tsa_model.py:221: ValueWarning: An unsupported index was provided and will be ignored when e.g. forecasting.\n",
      "  ' ignored when e.g. forecasting.', ValueWarning)\n"
     ]
    }
   ],
   "source": [
    "model = ARIMA(series, order = (p,0,q))\n",
    "results_AR = model.fit(disp=0)"
   ]
  },
  {
   "cell_type": "code",
   "execution_count": 117,
   "metadata": {},
   "outputs": [],
   "source": [
    "fv = pd.DataFrame(results_AR.fittedvalues)"
   ]
  },
  {
   "cell_type": "code",
   "execution_count": 118,
   "metadata": {},
   "outputs": [],
   "source": [
    "fv.to_csv(\".../SDARMABICFitted.csv\")"
   ]
  },
  {
   "cell_type": "code",
   "execution_count": 119,
   "metadata": {},
   "outputs": [],
   "source": [
    "df_forecast = pd.DataFrame(results_AR.forecast(40))"
   ]
  },
  {
   "cell_type": "code",
   "execution_count": 120,
   "metadata": {},
   "outputs": [],
   "source": [
    "df_forecast.T.to_csv(\".../SDOFCforecastARIMA2.csv\")"
   ]
  },
  {
   "cell_type": "markdown",
   "metadata": {},
   "source": [
    "### Now we need to combine all the models into one file"
   ]
  },
  {
   "cell_type": "code",
   "execution_count": 121,
   "metadata": {},
   "outputs": [],
   "source": [
    "files = {\n",
    "    \"date\": pd.read_csv(\".../Date.csv\", squeeze=True),\n",
    "    \"VARAIC\": pd.read_csv(\".../SDOFCforecastAIC.csv\", usecols=[4], header=None, names=[\"VARAIC\"], squeeze=True),\n",
    "    \"ARIMA1\": pd.read_csv(\".../SDOFCforecastARIMA1.csv\", usecols=[1], skiprows=[0], header=None, names=[\"ARIMA1\"], squeeze=True),\n",
    "    \"ARIMA2\": pd.read_csv(\".../SDOFCforecastARIMA2.csv\", usecols=[1], skiprows=[0], header=None, names=[\"ARIMA2\"], squeeze=True),\n",
    "    \"VARBIC\": pd.read_csv(\".../SDOFCforecastBIC.csv\", usecols=[4], header=None, names=[\"VARBIC\"], squeeze=True)\n",
    "}"
   ]
  },
  {
   "cell_type": "code",
   "execution_count": 122,
   "metadata": {},
   "outputs": [],
   "source": [
    "df_SD = pd.concat([files[\"date\"], files[\"VARAIC\"], files[\"VARBIC\"], files[\"ARIMA1\"], files[\"ARIMA2\"]], axis=1)"
   ]
  },
  {
   "cell_type": "code",
   "execution_count": 123,
   "metadata": {},
   "outputs": [],
   "source": [
    "df_SD = df_SD.set_index(\"Date\")"
   ]
  },
  {
   "cell_type": "markdown",
   "metadata": {},
   "source": [
    "### Here we create a simple average of all of the models. Depending on optimization - this gives us 2-5 distinct models to choose from."
   ]
  },
  {
   "cell_type": "code",
   "execution_count": 124,
   "metadata": {
    "scrolled": true
   },
   "outputs": [
    {
     "data": {
      "text/html": [
       "<div>\n",
       "<style scoped>\n",
       "    .dataframe tbody tr th:only-of-type {\n",
       "        vertical-align: middle;\n",
       "    }\n",
       "\n",
       "    .dataframe tbody tr th {\n",
       "        vertical-align: top;\n",
       "    }\n",
       "\n",
       "    .dataframe thead th {\n",
       "        text-align: right;\n",
       "    }\n",
       "</style>\n",
       "<table border=\"1\" class=\"dataframe\">\n",
       "  <thead>\n",
       "    <tr style=\"text-align: right;\">\n",
       "      <th></th>\n",
       "      <th>VARAIC</th>\n",
       "      <th>VARBIC</th>\n",
       "      <th>ARIMA1</th>\n",
       "      <th>ARIMA2</th>\n",
       "      <th>AVERAGE</th>\n",
       "    </tr>\n",
       "    <tr>\n",
       "      <th>Date</th>\n",
       "      <th></th>\n",
       "      <th></th>\n",
       "      <th></th>\n",
       "      <th></th>\n",
       "      <th></th>\n",
       "    </tr>\n",
       "  </thead>\n",
       "  <tbody>\n",
       "    <tr>\n",
       "      <th>Q4 2019</th>\n",
       "      <td>0.027265</td>\n",
       "      <td>0.025838</td>\n",
       "      <td>0.029583</td>\n",
       "      <td>0.029583</td>\n",
       "      <td>0.028067</td>\n",
       "    </tr>\n",
       "    <tr>\n",
       "      <th>Q1 2020</th>\n",
       "      <td>0.033641</td>\n",
       "      <td>0.026490</td>\n",
       "      <td>0.027513</td>\n",
       "      <td>0.027513</td>\n",
       "      <td>0.028789</td>\n",
       "    </tr>\n",
       "    <tr>\n",
       "      <th>Q2 2020</th>\n",
       "      <td>0.039512</td>\n",
       "      <td>0.027401</td>\n",
       "      <td>0.022445</td>\n",
       "      <td>0.022445</td>\n",
       "      <td>0.027951</td>\n",
       "    </tr>\n",
       "    <tr>\n",
       "      <th>Q3 2020</th>\n",
       "      <td>0.042715</td>\n",
       "      <td>0.028384</td>\n",
       "      <td>0.021939</td>\n",
       "      <td>0.021939</td>\n",
       "      <td>0.028744</td>\n",
       "    </tr>\n",
       "    <tr>\n",
       "      <th>Q4 2020</th>\n",
       "      <td>0.043355</td>\n",
       "      <td>0.029319</td>\n",
       "      <td>0.023298</td>\n",
       "      <td>0.023298</td>\n",
       "      <td>0.029817</td>\n",
       "    </tr>\n",
       "  </tbody>\n",
       "</table>\n",
       "</div>"
      ],
      "text/plain": [
       "           VARAIC    VARBIC    ARIMA1    ARIMA2   AVERAGE\n",
       "Date                                                     \n",
       "Q4 2019  0.027265  0.025838  0.029583  0.029583  0.028067\n",
       "Q1 2020  0.033641  0.026490  0.027513  0.027513  0.028789\n",
       "Q2 2020  0.039512  0.027401  0.022445  0.022445  0.027951\n",
       "Q3 2020  0.042715  0.028384  0.021939  0.021939  0.028744\n",
       "Q4 2020  0.043355  0.029319  0.023298  0.023298  0.029817"
      ]
     },
     "execution_count": 124,
     "metadata": {},
     "output_type": "execute_result"
    }
   ],
   "source": [
    "df_SD['AVERAGE'] = df_SD.mean(axis=1)\n",
    "df_SD.head()"
   ]
  },
  {
   "cell_type": "markdown",
   "metadata": {},
   "source": [
    "## Repeat this process for the CHI forecasts\n",
    "### Read in data - including some quick operations to clean up the excel"
   ]
  },
  {
   "cell_type": "code",
   "execution_count": 125,
   "metadata": {},
   "outputs": [],
   "source": [
    "xl = pd.read_excel('.../3Q19DataViewOFC.xlsx',sheet_name=\"CHI\", usecols=range(1,9), index_col=0, skiprows=9, skipcol=1)\n",
    "xl.drop(xl.tail(24).index,inplace=True) # drop forecast"
   ]
  },
  {
   "cell_type": "markdown",
   "metadata": {},
   "source": [
    "## Here we create our calculated variables we will use in forecasting"
   ]
  },
  {
   "cell_type": "code",
   "execution_count": 126,
   "metadata": {},
   "outputs": [],
   "source": [
    "xl['OFC Service Growth'] = xl['Office-using Services (Jobs x 1000)'].pct_change(periods=4) #non-stationary\n",
    "xl['Finance Growth'] = xl['Financial Activities (Jobs x 1000)'].pct_change(periods=4) #non-stationary\n",
    "xl['OFC Emp'] = xl['Financial Activities (Jobs x 1000)'] + xl['Office-using Services (Jobs x 1000)']\n",
    "xl['OFC Emp Growth'] = xl['OFC Emp'].pct_change(periods=4) #non-stationary\n",
    "xl['Comps %'] = xl['Completions (SF x 1000)']/xl['Stock (SF x 1000)']  #stationary\n",
    "xl['Abs %'] = xl['Net Absorption (SF x 1000)']/xl['Stock (SF x 1000)'] #stationary\n",
    "xl['Revenue'] = xl['TW Rent Index ($/SF)']*(1-(xl['Vacancy Rate (%)'])/100) \n",
    "xl['LN Revenue'] = np.log(xl['Revenue']) \n",
    "xl['Revenue Growth'] = xl['Revenue'].pct_change(periods=4) #non-stationary\n",
    "xl['LN Revenue Growth'] = xl['LN Revenue'].pct_change(periods=4) #non-stationary\n",
    "xl['Comps MA %'] = xl['Comps %'].rolling(window=4).mean() #non-stationary\n",
    "xl['Abs MA %'] = xl['Abs %'].rolling(window=4).mean() #non-stationary\n",
    "# Vacancy Rate is non-stationary"
   ]
  },
  {
   "cell_type": "code",
   "execution_count": 127,
   "metadata": {},
   "outputs": [],
   "source": [
    "xl.drop(xl.head(4).index,inplace=True) # drop n/a cells - they will break forecast"
   ]
  },
  {
   "cell_type": "code",
   "execution_count": 128,
   "metadata": {},
   "outputs": [
    {
     "name": "stderr",
     "output_type": "stream",
     "text": [
      "C:\\Users\\msaia\\AppData\\Local\\Continuum\\anaconda3\\lib\\site-packages\\ipykernel_launcher.py:1: FutureWarning: The signature of `Series.to_csv` was aligned to that of `DataFrame.to_csv`, and argument 'header' will change its default value from False to True: please pass an explicit value to suppress this warning.\n",
      "  \"\"\"Entry point for launching an IPython kernel.\n"
     ]
    }
   ],
   "source": [
    "xl['Revenue Growth'].to_csv(\".../CHIHistorical.csv\")"
   ]
  },
  {
   "cell_type": "code",
   "execution_count": 129,
   "metadata": {},
   "outputs": [
    {
     "name": "stdout",
     "output_type": "stream",
     "text": [
      "ADF Statistic: -3.464083\n",
      "p-value: 0.008959\n",
      "Critical Values:\n",
      "\t1%: -3.492\n",
      "\t5%: -2.888\n",
      "\t10%: -2.581\n"
     ]
    }
   ],
   "source": [
    "result = adfuller(xl['Abs MA %'])\n",
    "print('ADF Statistic: %f' % result[0])\n",
    "print('p-value: %f' % result[1])\n",
    "print('Critical Values:')\n",
    "for key, value in result[4].items():\n",
    "\tprint('\\t%s: %.3f' % (key, value))"
   ]
  },
  {
   "cell_type": "markdown",
   "metadata": {},
   "source": [
    "### Here we prep the data that will go into the first model, select the model, fit the model, and export the model - it's a quick process"
   ]
  },
  {
   "cell_type": "code",
   "execution_count": 130,
   "metadata": {},
   "outputs": [],
   "source": [
    "from statsmodels.tsa.base.datetools import dates_from_str"
   ]
  },
  {
   "cell_type": "code",
   "execution_count": 131,
   "metadata": {},
   "outputs": [],
   "source": [
    "data = xl[['OFC Service Growth', 'Finance Growth', 'Comps MA %', 'Abs MA %', 'Revenue Growth']]"
   ]
  },
  {
   "cell_type": "code",
   "execution_count": 132,
   "metadata": {
    "scrolled": true
   },
   "outputs": [
    {
     "name": "stderr",
     "output_type": "stream",
     "text": [
      "C:\\Users\\msaia\\AppData\\Local\\Continuum\\anaconda3\\lib\\site-packages\\statsmodels\\tsa\\base\\tsa_model.py:221: ValueWarning: An unsupported index was provided and will be ignored when e.g. forecasting.\n",
      "  ' ignored when e.g. forecasting.', ValueWarning)\n"
     ]
    }
   ],
   "source": [
    "model = VAR(data)"
   ]
  },
  {
   "cell_type": "code",
   "execution_count": 133,
   "metadata": {},
   "outputs": [],
   "source": [
    "results = model.fit(maxlags=4, ic='bic')"
   ]
  },
  {
   "cell_type": "code",
   "execution_count": 134,
   "metadata": {},
   "outputs": [],
   "source": [
    "fv = results.fittedvalues"
   ]
  },
  {
   "cell_type": "code",
   "execution_count": 135,
   "metadata": {},
   "outputs": [],
   "source": [
    "fv.to_csv(\".../CHIBICFitted.csv\")"
   ]
  },
  {
   "cell_type": "code",
   "execution_count": 136,
   "metadata": {},
   "outputs": [],
   "source": [
    "lag_order = results.k_ar\n",
    "a = np.asarray(results.forecast(data.values[-lag_order:], 40))\n",
    "np.savetxt(\".../CHIOFCforecastBIC.csv\", a, delimiter=\",\")"
   ]
  },
  {
   "cell_type": "markdown",
   "metadata": {},
   "source": [
    "### Repeat for different optimization"
   ]
  },
  {
   "cell_type": "code",
   "execution_count": 137,
   "metadata": {},
   "outputs": [],
   "source": [
    "results = model.fit(maxlags=4, ic='aic')"
   ]
  },
  {
   "cell_type": "code",
   "execution_count": 138,
   "metadata": {},
   "outputs": [],
   "source": [
    "fv = results.fittedvalues"
   ]
  },
  {
   "cell_type": "code",
   "execution_count": 139,
   "metadata": {},
   "outputs": [],
   "source": [
    "fv.to_csv(\".../CHIAICFitted.csv\")"
   ]
  },
  {
   "cell_type": "code",
   "execution_count": 140,
   "metadata": {},
   "outputs": [],
   "source": [
    "lag_order = results.k_ar\n",
    "a = np.asarray(results.forecast(data.values[-lag_order:], 40))\n",
    "np.savetxt(\".../CHIOFCforecastAIC.csv\", a, delimiter=\",\")"
   ]
  },
  {
   "cell_type": "markdown",
   "metadata": {},
   "source": [
    "### Run next class of models"
   ]
  },
  {
   "cell_type": "code",
   "execution_count": 141,
   "metadata": {},
   "outputs": [],
   "source": [
    "from statsmodels.tsa.arima_model import ARIMA"
   ]
  },
  {
   "cell_type": "code",
   "execution_count": 142,
   "metadata": {},
   "outputs": [],
   "source": [
    "from statsmodels.tsa.arima_model import ARIMAResults"
   ]
  },
  {
   "cell_type": "code",
   "execution_count": 143,
   "metadata": {},
   "outputs": [],
   "source": [
    "series = xl[['Revenue Growth']]"
   ]
  },
  {
   "cell_type": "code",
   "execution_count": 144,
   "metadata": {},
   "outputs": [
    {
     "name": "stderr",
     "output_type": "stream",
     "text": [
      "C:\\Users\\msaia\\AppData\\Local\\Continuum\\anaconda3\\lib\\site-packages\\statsmodels\\tsa\\base\\tsa_model.py:221: ValueWarning: An unsupported index was provided and will be ignored when e.g. forecasting.\n",
      "  ' ignored when e.g. forecasting.', ValueWarning)\n",
      "C:\\Users\\msaia\\AppData\\Local\\Continuum\\anaconda3\\lib\\site-packages\\statsmodels\\tsa\\base\\tsa_model.py:221: ValueWarning: An unsupported index was provided and will be ignored when e.g. forecasting.\n",
      "  ' ignored when e.g. forecasting.', ValueWarning)\n",
      "C:\\Users\\msaia\\AppData\\Local\\Continuum\\anaconda3\\lib\\site-packages\\statsmodels\\tsa\\base\\tsa_model.py:221: ValueWarning: An unsupported index was provided and will be ignored when e.g. forecasting.\n",
      "  ' ignored when e.g. forecasting.', ValueWarning)\n",
      "C:\\Users\\msaia\\AppData\\Local\\Continuum\\anaconda3\\lib\\site-packages\\statsmodels\\tsa\\base\\tsa_model.py:221: ValueWarning: An unsupported index was provided and will be ignored when e.g. forecasting.\n",
      "  ' ignored when e.g. forecasting.', ValueWarning)\n",
      "C:\\Users\\msaia\\AppData\\Local\\Continuum\\anaconda3\\lib\\site-packages\\statsmodels\\tsa\\base\\tsa_model.py:221: ValueWarning: An unsupported index was provided and will be ignored when e.g. forecasting.\n",
      "  ' ignored when e.g. forecasting.', ValueWarning)\n",
      "C:\\Users\\msaia\\AppData\\Local\\Continuum\\anaconda3\\lib\\site-packages\\statsmodels\\tsa\\base\\tsa_model.py:221: ValueWarning: An unsupported index was provided and will be ignored when e.g. forecasting.\n",
      "  ' ignored when e.g. forecasting.', ValueWarning)\n",
      "C:\\Users\\msaia\\AppData\\Local\\Continuum\\anaconda3\\lib\\site-packages\\statsmodels\\tsa\\base\\tsa_model.py:221: ValueWarning: An unsupported index was provided and will be ignored when e.g. forecasting.\n",
      "  ' ignored when e.g. forecasting.', ValueWarning)\n",
      "C:\\Users\\msaia\\AppData\\Local\\Continuum\\anaconda3\\lib\\site-packages\\statsmodels\\tsa\\base\\tsa_model.py:221: ValueWarning: An unsupported index was provided and will be ignored when e.g. forecasting.\n",
      "  ' ignored when e.g. forecasting.', ValueWarning)\n",
      "C:\\Users\\msaia\\AppData\\Local\\Continuum\\anaconda3\\lib\\site-packages\\statsmodels\\tsa\\base\\tsa_model.py:221: ValueWarning: An unsupported index was provided and will be ignored when e.g. forecasting.\n",
      "  ' ignored when e.g. forecasting.', ValueWarning)\n",
      "C:\\Users\\msaia\\AppData\\Local\\Continuum\\anaconda3\\lib\\site-packages\\statsmodels\\tsa\\base\\tsa_model.py:221: ValueWarning: An unsupported index was provided and will be ignored when e.g. forecasting.\n",
      "  ' ignored when e.g. forecasting.', ValueWarning)\n",
      "C:\\Users\\msaia\\AppData\\Local\\Continuum\\anaconda3\\lib\\site-packages\\statsmodels\\tsa\\base\\tsa_model.py:221: ValueWarning: An unsupported index was provided and will be ignored when e.g. forecasting.\n",
      "  ' ignored when e.g. forecasting.', ValueWarning)\n",
      "C:\\Users\\msaia\\AppData\\Local\\Continuum\\anaconda3\\lib\\site-packages\\statsmodels\\tsa\\base\\tsa_model.py:221: ValueWarning: An unsupported index was provided and will be ignored when e.g. forecasting.\n",
      "  ' ignored when e.g. forecasting.', ValueWarning)\n",
      "C:\\Users\\msaia\\AppData\\Local\\Continuum\\anaconda3\\lib\\site-packages\\statsmodels\\tsa\\base\\tsa_model.py:221: ValueWarning: An unsupported index was provided and will be ignored when e.g. forecasting.\n",
      "  ' ignored when e.g. forecasting.', ValueWarning)\n",
      "C:\\Users\\msaia\\AppData\\Local\\Continuum\\anaconda3\\lib\\site-packages\\statsmodels\\tsa\\base\\tsa_model.py:221: ValueWarning: An unsupported index was provided and will be ignored when e.g. forecasting.\n",
      "  ' ignored when e.g. forecasting.', ValueWarning)\n",
      "C:\\Users\\msaia\\AppData\\Local\\Continuum\\anaconda3\\lib\\site-packages\\statsmodels\\tsa\\base\\tsa_model.py:221: ValueWarning: An unsupported index was provided and will be ignored when e.g. forecasting.\n",
      "  ' ignored when e.g. forecasting.', ValueWarning)\n"
     ]
    }
   ],
   "source": [
    "res = sm.tsa.arma_order_select_ic(series, ic=['aic', 'bic'], trend='nc')"
   ]
  },
  {
   "cell_type": "code",
   "execution_count": 145,
   "metadata": {},
   "outputs": [
    {
     "data": {
      "text/plain": [
       "(4, 2)"
      ]
     },
     "execution_count": 145,
     "metadata": {},
     "output_type": "execute_result"
    }
   ],
   "source": [
    "res.aic_min_order"
   ]
  },
  {
   "cell_type": "code",
   "execution_count": 146,
   "metadata": {},
   "outputs": [
    {
     "data": {
      "text/plain": [
       "(3, 2)"
      ]
     },
     "execution_count": 146,
     "metadata": {},
     "output_type": "execute_result"
    }
   ],
   "source": [
    "res.bic_min_order"
   ]
  },
  {
   "cell_type": "code",
   "execution_count": 147,
   "metadata": {},
   "outputs": [],
   "source": [
    "p = np.asarray(res.aic_min_order[0])"
   ]
  },
  {
   "cell_type": "code",
   "execution_count": 148,
   "metadata": {},
   "outputs": [],
   "source": [
    "q = np.asarray(res.aic_min_order[1])"
   ]
  },
  {
   "cell_type": "code",
   "execution_count": 149,
   "metadata": {},
   "outputs": [
    {
     "name": "stderr",
     "output_type": "stream",
     "text": [
      "C:\\Users\\msaia\\AppData\\Local\\Continuum\\anaconda3\\lib\\site-packages\\statsmodels\\tsa\\base\\tsa_model.py:221: ValueWarning: An unsupported index was provided and will be ignored when e.g. forecasting.\n",
      "  ' ignored when e.g. forecasting.', ValueWarning)\n"
     ]
    }
   ],
   "source": [
    "model = ARIMA(series, order = (p,0,q))\n",
    "results_AR = model.fit(disp=0)"
   ]
  },
  {
   "cell_type": "code",
   "execution_count": 150,
   "metadata": {},
   "outputs": [],
   "source": [
    "fv = pd.DataFrame(results_AR.fittedvalues)"
   ]
  },
  {
   "cell_type": "code",
   "execution_count": 151,
   "metadata": {},
   "outputs": [],
   "source": [
    "fv.to_csv(\".../CHIARMAAICFitted.csv\")"
   ]
  },
  {
   "cell_type": "code",
   "execution_count": 152,
   "metadata": {},
   "outputs": [],
   "source": [
    "df_forecast = pd.DataFrame(results_AR.forecast(40))"
   ]
  },
  {
   "cell_type": "code",
   "execution_count": 153,
   "metadata": {},
   "outputs": [],
   "source": [
    "df_forecast.T.to_csv(\".../CHIOFCforecastARIMA1.csv\")"
   ]
  },
  {
   "cell_type": "markdown",
   "metadata": {},
   "source": [
    "### Repeat for different optimization"
   ]
  },
  {
   "cell_type": "code",
   "execution_count": 154,
   "metadata": {},
   "outputs": [],
   "source": [
    "p = np.asarray(res.bic_min_order[0])"
   ]
  },
  {
   "cell_type": "code",
   "execution_count": 155,
   "metadata": {},
   "outputs": [],
   "source": [
    "q = np.asarray(res.bic_min_order[1])"
   ]
  },
  {
   "cell_type": "code",
   "execution_count": 156,
   "metadata": {},
   "outputs": [
    {
     "name": "stderr",
     "output_type": "stream",
     "text": [
      "C:\\Users\\msaia\\AppData\\Local\\Continuum\\anaconda3\\lib\\site-packages\\statsmodels\\tsa\\base\\tsa_model.py:221: ValueWarning: An unsupported index was provided and will be ignored when e.g. forecasting.\n",
      "  ' ignored when e.g. forecasting.', ValueWarning)\n"
     ]
    }
   ],
   "source": [
    "model = ARIMA(series, order = (p,0,q))\n",
    "results_AR = model.fit(disp=0)"
   ]
  },
  {
   "cell_type": "code",
   "execution_count": 157,
   "metadata": {},
   "outputs": [],
   "source": [
    "fv = pd.DataFrame(results_AR.fittedvalues)"
   ]
  },
  {
   "cell_type": "code",
   "execution_count": 158,
   "metadata": {},
   "outputs": [],
   "source": [
    "fv.to_csv(\".../CHIARMABICFitted.csv\")"
   ]
  },
  {
   "cell_type": "code",
   "execution_count": 159,
   "metadata": {},
   "outputs": [],
   "source": [
    "df_forecast = pd.DataFrame(results_AR.forecast(40))"
   ]
  },
  {
   "cell_type": "code",
   "execution_count": 160,
   "metadata": {},
   "outputs": [],
   "source": [
    "df_forecast.T.to_csv(\".../CHIOFCforecastARIMA2.csv\")"
   ]
  },
  {
   "cell_type": "markdown",
   "metadata": {},
   "source": [
    "### Now we need to combine all the models into one file"
   ]
  },
  {
   "cell_type": "code",
   "execution_count": 161,
   "metadata": {},
   "outputs": [],
   "source": [
    "files = {\n",
    "    \"date\": pd.read_csv(\".../Date.csv\", squeeze=True),\n",
    "    \"VARAIC\": pd.read_csv(\".../CHIOFCforecastAIC.csv\", usecols=[4], header=None, names=[\"VARAIC\"], squeeze=True),\n",
    "    \"ARIMA1\": pd.read_csv(\".../CHIOFCforecastARIMA1.csv\", usecols=[1], skiprows=[0], header=None, names=[\"ARIMA1\"], squeeze=True),\n",
    "    \"ARIMA2\": pd.read_csv(\".../CHIOFCforecastARIMA2.csv\", usecols=[1], skiprows=[0], header=None, names=[\"ARIMA2\"], squeeze=True),\n",
    "    \"VARBIC\": pd.read_csv(\".../CHIOFCforecastBIC.csv\", usecols=[4], header=None, names=[\"VARBIC\"], squeeze=True)\n",
    "}"
   ]
  },
  {
   "cell_type": "code",
   "execution_count": 162,
   "metadata": {},
   "outputs": [],
   "source": [
    "df_CHI = pd.concat([files[\"date\"], files[\"VARAIC\"], files[\"VARBIC\"], files[\"ARIMA1\"], files[\"ARIMA2\"]], axis=1)"
   ]
  },
  {
   "cell_type": "code",
   "execution_count": 163,
   "metadata": {},
   "outputs": [],
   "source": [
    "df_CHI = df_CHI.set_index(\"Date\")"
   ]
  },
  {
   "cell_type": "markdown",
   "metadata": {},
   "source": [
    "### Here we create a simple average of all of the models. Depending on optimization - this gives us 2-5 distinct models to choose from."
   ]
  },
  {
   "cell_type": "code",
   "execution_count": 164,
   "metadata": {
    "scrolled": false
   },
   "outputs": [
    {
     "data": {
      "text/html": [
       "<div>\n",
       "<style scoped>\n",
       "    .dataframe tbody tr th:only-of-type {\n",
       "        vertical-align: middle;\n",
       "    }\n",
       "\n",
       "    .dataframe tbody tr th {\n",
       "        vertical-align: top;\n",
       "    }\n",
       "\n",
       "    .dataframe thead th {\n",
       "        text-align: right;\n",
       "    }\n",
       "</style>\n",
       "<table border=\"1\" class=\"dataframe\">\n",
       "  <thead>\n",
       "    <tr style=\"text-align: right;\">\n",
       "      <th></th>\n",
       "      <th>VARAIC</th>\n",
       "      <th>VARBIC</th>\n",
       "      <th>ARIMA1</th>\n",
       "      <th>ARIMA2</th>\n",
       "      <th>AVERAGE</th>\n",
       "    </tr>\n",
       "    <tr>\n",
       "      <th>Date</th>\n",
       "      <th></th>\n",
       "      <th></th>\n",
       "      <th></th>\n",
       "      <th></th>\n",
       "      <th></th>\n",
       "    </tr>\n",
       "  </thead>\n",
       "  <tbody>\n",
       "    <tr>\n",
       "      <th>Q4 2019</th>\n",
       "      <td>0.027469</td>\n",
       "      <td>0.029812</td>\n",
       "      <td>0.035089</td>\n",
       "      <td>0.031795</td>\n",
       "      <td>0.031041</td>\n",
       "    </tr>\n",
       "    <tr>\n",
       "      <th>Q1 2020</th>\n",
       "      <td>0.023876</td>\n",
       "      <td>0.025883</td>\n",
       "      <td>0.034190</td>\n",
       "      <td>0.028708</td>\n",
       "      <td>0.028164</td>\n",
       "    </tr>\n",
       "    <tr>\n",
       "      <th>Q2 2020</th>\n",
       "      <td>0.021868</td>\n",
       "      <td>0.022619</td>\n",
       "      <td>0.028931</td>\n",
       "      <td>0.027230</td>\n",
       "      <td>0.025162</td>\n",
       "    </tr>\n",
       "    <tr>\n",
       "      <th>Q3 2020</th>\n",
       "      <td>0.020196</td>\n",
       "      <td>0.019892</td>\n",
       "      <td>0.025649</td>\n",
       "      <td>0.026601</td>\n",
       "      <td>0.023084</td>\n",
       "    </tr>\n",
       "    <tr>\n",
       "      <th>Q4 2020</th>\n",
       "      <td>0.018680</td>\n",
       "      <td>0.017614</td>\n",
       "      <td>0.025040</td>\n",
       "      <td>0.025674</td>\n",
       "      <td>0.021752</td>\n",
       "    </tr>\n",
       "  </tbody>\n",
       "</table>\n",
       "</div>"
      ],
      "text/plain": [
       "           VARAIC    VARBIC    ARIMA1    ARIMA2   AVERAGE\n",
       "Date                                                     \n",
       "Q4 2019  0.027469  0.029812  0.035089  0.031795  0.031041\n",
       "Q1 2020  0.023876  0.025883  0.034190  0.028708  0.028164\n",
       "Q2 2020  0.021868  0.022619  0.028931  0.027230  0.025162\n",
       "Q3 2020  0.020196  0.019892  0.025649  0.026601  0.023084\n",
       "Q4 2020  0.018680  0.017614  0.025040  0.025674  0.021752"
      ]
     },
     "execution_count": 164,
     "metadata": {},
     "output_type": "execute_result"
    }
   ],
   "source": [
    "df_CHI['AVERAGE'] = df_CHI.mean(axis=1)\n",
    "df_CHI.head()"
   ]
  },
  {
   "cell_type": "markdown",
   "metadata": {},
   "source": [
    "## Repeat this process for the WLA forecasts\n",
    "### Read in data - including some quick operations to clean up the excel"
   ]
  },
  {
   "cell_type": "code",
   "execution_count": 165,
   "metadata": {},
   "outputs": [],
   "source": [
    "xl = pd.read_excel('.../3Q19DataViewOFC.xlsx',sheet_name=\"WLA\", usecols=range(1,9), index_col=0, skiprows=9, skipcol=1)\n",
    "xl.drop(xl.tail(24).index,inplace=True) # drop forecast"
   ]
  },
  {
   "cell_type": "markdown",
   "metadata": {},
   "source": [
    "## Here we create our calculated variables we will use in forecasting"
   ]
  },
  {
   "cell_type": "code",
   "execution_count": 166,
   "metadata": {},
   "outputs": [],
   "source": [
    "xl['OFC Service Growth'] = xl['Office-using Services (Jobs x 1000)'].pct_change(periods=4) #non-stationary\n",
    "xl['Finance Growth'] = xl['Financial Activities (Jobs x 1000)'].pct_change(periods=4) #non-stationary\n",
    "xl['OFC Emp'] = xl['Financial Activities (Jobs x 1000)'] + xl['Office-using Services (Jobs x 1000)']\n",
    "xl['OFC Emp Growth'] = xl['OFC Emp'].pct_change(periods=4) #non-stationary\n",
    "xl['Comps %'] = xl['Completions (SF x 1000)']/xl['Stock (SF x 1000)']  #stationary\n",
    "xl['Abs %'] = xl['Net Absorption (SF x 1000)']/xl['Stock (SF x 1000)'] #stationary\n",
    "xl['Revenue'] = xl['TW Rent Index ($/SF)']*(1-(xl['Vacancy Rate (%)'])/100) \n",
    "xl['LN Revenue'] = np.log(xl['Revenue']) \n",
    "xl['Revenue Growth'] = xl['Revenue'].pct_change(periods=4) #non-stationary\n",
    "xl['LN Revenue Growth'] = xl['LN Revenue'].pct_change(periods=4) #non-stationary\n",
    "xl['Comps MA %'] = xl['Comps %'].rolling(window=4).mean() #non-stationary\n",
    "xl['Abs MA %'] = xl['Abs %'].rolling(window=4).mean() #non-stationary\n",
    "# Vacancy Rate is non-stationary"
   ]
  },
  {
   "cell_type": "code",
   "execution_count": 167,
   "metadata": {},
   "outputs": [],
   "source": [
    "xl.drop(xl.head(4).index,inplace=True) # drop n/a cells - they will break forecast"
   ]
  },
  {
   "cell_type": "code",
   "execution_count": 168,
   "metadata": {},
   "outputs": [
    {
     "name": "stderr",
     "output_type": "stream",
     "text": [
      "C:\\Users\\msaia\\AppData\\Local\\Continuum\\anaconda3\\lib\\site-packages\\ipykernel_launcher.py:1: FutureWarning: The signature of `Series.to_csv` was aligned to that of `DataFrame.to_csv`, and argument 'header' will change its default value from False to True: please pass an explicit value to suppress this warning.\n",
      "  \"\"\"Entry point for launching an IPython kernel.\n"
     ]
    }
   ],
   "source": [
    "xl['Revenue Growth'].to_csv(\".../WLAHistorical.csv\")"
   ]
  },
  {
   "cell_type": "code",
   "execution_count": 169,
   "metadata": {},
   "outputs": [
    {
     "name": "stdout",
     "output_type": "stream",
     "text": [
      "ADF Statistic: -3.074124\n",
      "p-value: 0.028528\n",
      "Critical Values:\n",
      "\t1%: -3.489\n",
      "\t5%: -2.887\n",
      "\t10%: -2.580\n"
     ]
    }
   ],
   "source": [
    "result = adfuller(xl['Abs MA %'])\n",
    "print('ADF Statistic: %f' % result[0])\n",
    "print('p-value: %f' % result[1])\n",
    "print('Critical Values:')\n",
    "for key, value in result[4].items():\n",
    "\tprint('\\t%s: %.3f' % (key, value))"
   ]
  },
  {
   "cell_type": "markdown",
   "metadata": {},
   "source": [
    "### Here we prep the data that will go into the first model, select the model, fit the model, and export the model - it's a quick process"
   ]
  },
  {
   "cell_type": "code",
   "execution_count": 170,
   "metadata": {},
   "outputs": [],
   "source": [
    "from statsmodels.tsa.base.datetools import dates_from_str"
   ]
  },
  {
   "cell_type": "code",
   "execution_count": 171,
   "metadata": {},
   "outputs": [],
   "source": [
    "data = xl[['OFC Service Growth', 'Finance Growth', 'Comps MA %', 'Abs MA %', 'Revenue Growth']]"
   ]
  },
  {
   "cell_type": "code",
   "execution_count": 172,
   "metadata": {
    "scrolled": true
   },
   "outputs": [
    {
     "name": "stderr",
     "output_type": "stream",
     "text": [
      "C:\\Users\\msaia\\AppData\\Local\\Continuum\\anaconda3\\lib\\site-packages\\statsmodels\\tsa\\base\\tsa_model.py:221: ValueWarning: An unsupported index was provided and will be ignored when e.g. forecasting.\n",
      "  ' ignored when e.g. forecasting.', ValueWarning)\n"
     ]
    }
   ],
   "source": [
    "model = VAR(data)"
   ]
  },
  {
   "cell_type": "code",
   "execution_count": 173,
   "metadata": {},
   "outputs": [],
   "source": [
    "results = model.fit(maxlags=4, ic='bic')"
   ]
  },
  {
   "cell_type": "code",
   "execution_count": 174,
   "metadata": {},
   "outputs": [],
   "source": [
    "fv = results.fittedvalues"
   ]
  },
  {
   "cell_type": "code",
   "execution_count": 175,
   "metadata": {},
   "outputs": [],
   "source": [
    "fv.to_csv(\".../WLABICFitted.csv\")"
   ]
  },
  {
   "cell_type": "code",
   "execution_count": 176,
   "metadata": {},
   "outputs": [],
   "source": [
    "lag_order = results.k_ar\n",
    "a = np.asarray(results.forecast(data.values[-lag_order:], 40))\n",
    "np.savetxt(\".../WLAOFCforecastBIC.csv\", a, delimiter=\",\")"
   ]
  },
  {
   "cell_type": "markdown",
   "metadata": {},
   "source": [
    "### Repeat for different optimization"
   ]
  },
  {
   "cell_type": "code",
   "execution_count": 177,
   "metadata": {},
   "outputs": [],
   "source": [
    "results = model.fit(maxlags=4, ic='aic')"
   ]
  },
  {
   "cell_type": "code",
   "execution_count": 178,
   "metadata": {},
   "outputs": [],
   "source": [
    "fv = results.fittedvalues"
   ]
  },
  {
   "cell_type": "code",
   "execution_count": 179,
   "metadata": {},
   "outputs": [],
   "source": [
    "fv.to_csv(\".../WLAAICFitted.csv\")"
   ]
  },
  {
   "cell_type": "code",
   "execution_count": 180,
   "metadata": {},
   "outputs": [],
   "source": [
    "lag_order = results.k_ar\n",
    "a = np.asarray(results.forecast(data.values[-lag_order:], 40))\n",
    "np.savetxt(\".../WLAOFCforecastAIC.csv\", a, delimiter=\",\")"
   ]
  },
  {
   "cell_type": "markdown",
   "metadata": {},
   "source": [
    "### Run next class of models"
   ]
  },
  {
   "cell_type": "code",
   "execution_count": 181,
   "metadata": {},
   "outputs": [],
   "source": [
    "from statsmodels.tsa.arima_model import ARIMA"
   ]
  },
  {
   "cell_type": "code",
   "execution_count": 182,
   "metadata": {},
   "outputs": [],
   "source": [
    "from statsmodels.tsa.arima_model import ARIMAResults"
   ]
  },
  {
   "cell_type": "code",
   "execution_count": 183,
   "metadata": {},
   "outputs": [],
   "source": [
    "series = xl[['Revenue Growth']]"
   ]
  },
  {
   "cell_type": "code",
   "execution_count": 184,
   "metadata": {},
   "outputs": [
    {
     "name": "stderr",
     "output_type": "stream",
     "text": [
      "C:\\Users\\msaia\\AppData\\Local\\Continuum\\anaconda3\\lib\\site-packages\\statsmodels\\tsa\\base\\tsa_model.py:221: ValueWarning: An unsupported index was provided and will be ignored when e.g. forecasting.\n",
      "  ' ignored when e.g. forecasting.', ValueWarning)\n",
      "C:\\Users\\msaia\\AppData\\Local\\Continuum\\anaconda3\\lib\\site-packages\\statsmodels\\tsa\\base\\tsa_model.py:221: ValueWarning: An unsupported index was provided and will be ignored when e.g. forecasting.\n",
      "  ' ignored when e.g. forecasting.', ValueWarning)\n",
      "C:\\Users\\msaia\\AppData\\Local\\Continuum\\anaconda3\\lib\\site-packages\\statsmodels\\tsa\\base\\tsa_model.py:221: ValueWarning: An unsupported index was provided and will be ignored when e.g. forecasting.\n",
      "  ' ignored when e.g. forecasting.', ValueWarning)\n",
      "C:\\Users\\msaia\\AppData\\Local\\Continuum\\anaconda3\\lib\\site-packages\\statsmodels\\tsa\\base\\tsa_model.py:221: ValueWarning: An unsupported index was provided and will be ignored when e.g. forecasting.\n",
      "  ' ignored when e.g. forecasting.', ValueWarning)\n",
      "C:\\Users\\msaia\\AppData\\Local\\Continuum\\anaconda3\\lib\\site-packages\\statsmodels\\tsa\\base\\tsa_model.py:221: ValueWarning: An unsupported index was provided and will be ignored when e.g. forecasting.\n",
      "  ' ignored when e.g. forecasting.', ValueWarning)\n",
      "C:\\Users\\msaia\\AppData\\Local\\Continuum\\anaconda3\\lib\\site-packages\\statsmodels\\tsa\\base\\tsa_model.py:221: ValueWarning: An unsupported index was provided and will be ignored when e.g. forecasting.\n",
      "  ' ignored when e.g. forecasting.', ValueWarning)\n",
      "C:\\Users\\msaia\\AppData\\Local\\Continuum\\anaconda3\\lib\\site-packages\\statsmodels\\tsa\\base\\tsa_model.py:221: ValueWarning: An unsupported index was provided and will be ignored when e.g. forecasting.\n",
      "  ' ignored when e.g. forecasting.', ValueWarning)\n",
      "C:\\Users\\msaia\\AppData\\Local\\Continuum\\anaconda3\\lib\\site-packages\\statsmodels\\tsa\\base\\tsa_model.py:221: ValueWarning: An unsupported index was provided and will be ignored when e.g. forecasting.\n",
      "  ' ignored when e.g. forecasting.', ValueWarning)\n",
      "C:\\Users\\msaia\\AppData\\Local\\Continuum\\anaconda3\\lib\\site-packages\\statsmodels\\tsa\\base\\tsa_model.py:221: ValueWarning: An unsupported index was provided and will be ignored when e.g. forecasting.\n",
      "  ' ignored when e.g. forecasting.', ValueWarning)\n",
      "C:\\Users\\msaia\\AppData\\Local\\Continuum\\anaconda3\\lib\\site-packages\\statsmodels\\tsa\\base\\tsa_model.py:221: ValueWarning: An unsupported index was provided and will be ignored when e.g. forecasting.\n",
      "  ' ignored when e.g. forecasting.', ValueWarning)\n",
      "C:\\Users\\msaia\\AppData\\Local\\Continuum\\anaconda3\\lib\\site-packages\\statsmodels\\tsa\\base\\tsa_model.py:221: ValueWarning: An unsupported index was provided and will be ignored when e.g. forecasting.\n",
      "  ' ignored when e.g. forecasting.', ValueWarning)\n",
      "C:\\Users\\msaia\\AppData\\Local\\Continuum\\anaconda3\\lib\\site-packages\\statsmodels\\tsa\\base\\tsa_model.py:221: ValueWarning: An unsupported index was provided and will be ignored when e.g. forecasting.\n",
      "  ' ignored when e.g. forecasting.', ValueWarning)\n",
      "C:\\Users\\msaia\\AppData\\Local\\Continuum\\anaconda3\\lib\\site-packages\\statsmodels\\tsa\\base\\tsa_model.py:221: ValueWarning: An unsupported index was provided and will be ignored when e.g. forecasting.\n",
      "  ' ignored when e.g. forecasting.', ValueWarning)\n",
      "C:\\Users\\msaia\\AppData\\Local\\Continuum\\anaconda3\\lib\\site-packages\\statsmodels\\tsa\\base\\tsa_model.py:221: ValueWarning: An unsupported index was provided and will be ignored when e.g. forecasting.\n",
      "  ' ignored when e.g. forecasting.', ValueWarning)\n",
      "C:\\Users\\msaia\\AppData\\Local\\Continuum\\anaconda3\\lib\\site-packages\\statsmodels\\tsa\\base\\tsa_model.py:221: ValueWarning: An unsupported index was provided and will be ignored when e.g. forecasting.\n",
      "  ' ignored when e.g. forecasting.', ValueWarning)\n"
     ]
    }
   ],
   "source": [
    "res = sm.tsa.arma_order_select_ic(series, ic=['aic', 'bic'], trend='nc')"
   ]
  },
  {
   "cell_type": "code",
   "execution_count": 185,
   "metadata": {},
   "outputs": [
    {
     "data": {
      "text/plain": [
       "(4, 1)"
      ]
     },
     "execution_count": 185,
     "metadata": {},
     "output_type": "execute_result"
    }
   ],
   "source": [
    "res.aic_min_order"
   ]
  },
  {
   "cell_type": "code",
   "execution_count": 186,
   "metadata": {},
   "outputs": [
    {
     "data": {
      "text/plain": [
       "(4, 1)"
      ]
     },
     "execution_count": 186,
     "metadata": {},
     "output_type": "execute_result"
    }
   ],
   "source": [
    "res.bic_min_order"
   ]
  },
  {
   "cell_type": "code",
   "execution_count": 187,
   "metadata": {},
   "outputs": [],
   "source": [
    "p = np.asarray(res.aic_min_order[0])"
   ]
  },
  {
   "cell_type": "code",
   "execution_count": 188,
   "metadata": {},
   "outputs": [],
   "source": [
    "q = np.asarray(res.aic_min_order[1])"
   ]
  },
  {
   "cell_type": "code",
   "execution_count": 189,
   "metadata": {},
   "outputs": [
    {
     "name": "stderr",
     "output_type": "stream",
     "text": [
      "C:\\Users\\msaia\\AppData\\Local\\Continuum\\anaconda3\\lib\\site-packages\\statsmodels\\tsa\\base\\tsa_model.py:221: ValueWarning: An unsupported index was provided and will be ignored when e.g. forecasting.\n",
      "  ' ignored when e.g. forecasting.', ValueWarning)\n"
     ]
    }
   ],
   "source": [
    "model = ARIMA(series, order = (p,0,q))\n",
    "results_AR = model.fit(disp=0)"
   ]
  },
  {
   "cell_type": "code",
   "execution_count": 190,
   "metadata": {},
   "outputs": [],
   "source": [
    "fv = pd.DataFrame(results_AR.fittedvalues)"
   ]
  },
  {
   "cell_type": "code",
   "execution_count": 191,
   "metadata": {},
   "outputs": [],
   "source": [
    "fv.to_csv(\".../WLAARMAAICFitted.csv\")"
   ]
  },
  {
   "cell_type": "code",
   "execution_count": 192,
   "metadata": {},
   "outputs": [],
   "source": [
    "df_forecast = pd.DataFrame(results_AR.forecast(40))"
   ]
  },
  {
   "cell_type": "code",
   "execution_count": 193,
   "metadata": {},
   "outputs": [],
   "source": [
    "df_forecast.T.to_csv(\".../WLAOFCforecastARIMA1.csv\")"
   ]
  },
  {
   "cell_type": "markdown",
   "metadata": {},
   "source": [
    "### Repeat for different optimization"
   ]
  },
  {
   "cell_type": "code",
   "execution_count": 194,
   "metadata": {},
   "outputs": [],
   "source": [
    "p = np.asarray(res.bic_min_order[0])"
   ]
  },
  {
   "cell_type": "code",
   "execution_count": 195,
   "metadata": {},
   "outputs": [],
   "source": [
    "q = np.asarray(res.bic_min_order[1])"
   ]
  },
  {
   "cell_type": "code",
   "execution_count": 196,
   "metadata": {},
   "outputs": [
    {
     "name": "stderr",
     "output_type": "stream",
     "text": [
      "C:\\Users\\msaia\\AppData\\Local\\Continuum\\anaconda3\\lib\\site-packages\\statsmodels\\tsa\\base\\tsa_model.py:221: ValueWarning: An unsupported index was provided and will be ignored when e.g. forecasting.\n",
      "  ' ignored when e.g. forecasting.', ValueWarning)\n"
     ]
    }
   ],
   "source": [
    "model = ARIMA(series, order = (p,0,q))\n",
    "results_AR = model.fit(disp=0)"
   ]
  },
  {
   "cell_type": "code",
   "execution_count": 197,
   "metadata": {},
   "outputs": [],
   "source": [
    "fv = pd.DataFrame(results_AR.fittedvalues)"
   ]
  },
  {
   "cell_type": "code",
   "execution_count": 198,
   "metadata": {},
   "outputs": [],
   "source": [
    "fv.to_csv(\".../WLAARMABICFitted.csv\")"
   ]
  },
  {
   "cell_type": "code",
   "execution_count": 199,
   "metadata": {},
   "outputs": [],
   "source": [
    "df_forecast = pd.DataFrame(results_AR.forecast(40))"
   ]
  },
  {
   "cell_type": "code",
   "execution_count": 200,
   "metadata": {},
   "outputs": [],
   "source": [
    "df_forecast.T.to_csv(\".../WLAOFCforecastARIMA2.csv\")"
   ]
  },
  {
   "cell_type": "markdown",
   "metadata": {},
   "source": [
    "### Now we need to combine all the models into one file"
   ]
  },
  {
   "cell_type": "code",
   "execution_count": 201,
   "metadata": {},
   "outputs": [],
   "source": [
    "files = {\n",
    "    \"date\": pd.read_csv(\".../Date.csv\", squeeze=True),\n",
    "    \"VARAIC\": pd.read_csv(\".../WLAOFCforecastAIC.csv\", usecols=[4], header=None, names=[\"VARAIC\"], squeeze=True),\n",
    "    \"ARIMA1\": pd.read_csv(\".../WLAOFCforecastARIMA1.csv\", usecols=[1], skiprows=[0], header=None, names=[\"ARIMA1\"], squeeze=True),\n",
    "    \"ARIMA2\": pd.read_csv(\".../WLAOFCforecastARIMA2.csv\", usecols=[1], skiprows=[0], header=None, names=[\"ARIMA2\"], squeeze=True),\n",
    "    \"VARBIC\": pd.read_csv(\".../WLAOFCforecastBIC.csv\", usecols=[4], header=None, names=[\"VARBIC\"], squeeze=True)\n",
    "}"
   ]
  },
  {
   "cell_type": "code",
   "execution_count": 202,
   "metadata": {},
   "outputs": [],
   "source": [
    "df_WLA = pd.concat([files[\"date\"], files[\"VARAIC\"], files[\"VARBIC\"], files[\"ARIMA1\"], files[\"ARIMA2\"]], axis=1)"
   ]
  },
  {
   "cell_type": "code",
   "execution_count": 203,
   "metadata": {},
   "outputs": [],
   "source": [
    "df_WLA = df_WLA.set_index(\"Date\")"
   ]
  },
  {
   "cell_type": "markdown",
   "metadata": {},
   "source": [
    "### Here we create a simple average of all of the models. Depending on optimization - this gives us 2-5 distinct models to choose from."
   ]
  },
  {
   "cell_type": "code",
   "execution_count": 204,
   "metadata": {
    "scrolled": false
   },
   "outputs": [
    {
     "data": {
      "text/html": [
       "<div>\n",
       "<style scoped>\n",
       "    .dataframe tbody tr th:only-of-type {\n",
       "        vertical-align: middle;\n",
       "    }\n",
       "\n",
       "    .dataframe tbody tr th {\n",
       "        vertical-align: top;\n",
       "    }\n",
       "\n",
       "    .dataframe thead th {\n",
       "        text-align: right;\n",
       "    }\n",
       "</style>\n",
       "<table border=\"1\" class=\"dataframe\">\n",
       "  <thead>\n",
       "    <tr style=\"text-align: right;\">\n",
       "      <th></th>\n",
       "      <th>VARAIC</th>\n",
       "      <th>VARBIC</th>\n",
       "      <th>ARIMA1</th>\n",
       "      <th>ARIMA2</th>\n",
       "      <th>AVERAGE</th>\n",
       "    </tr>\n",
       "    <tr>\n",
       "      <th>Date</th>\n",
       "      <th></th>\n",
       "      <th></th>\n",
       "      <th></th>\n",
       "      <th></th>\n",
       "      <th></th>\n",
       "    </tr>\n",
       "  </thead>\n",
       "  <tbody>\n",
       "    <tr>\n",
       "      <th>Q4 2019</th>\n",
       "      <td>0.066425</td>\n",
       "      <td>0.071917</td>\n",
       "      <td>0.048041</td>\n",
       "      <td>0.048041</td>\n",
       "      <td>0.058606</td>\n",
       "    </tr>\n",
       "    <tr>\n",
       "      <th>Q1 2020</th>\n",
       "      <td>0.080711</td>\n",
       "      <td>0.082657</td>\n",
       "      <td>0.034123</td>\n",
       "      <td>0.034123</td>\n",
       "      <td>0.057903</td>\n",
       "    </tr>\n",
       "    <tr>\n",
       "      <th>Q2 2020</th>\n",
       "      <td>0.085655</td>\n",
       "      <td>0.087747</td>\n",
       "      <td>0.025772</td>\n",
       "      <td>0.025772</td>\n",
       "      <td>0.056236</td>\n",
       "    </tr>\n",
       "    <tr>\n",
       "      <th>Q3 2020</th>\n",
       "      <td>0.085731</td>\n",
       "      <td>0.088363</td>\n",
       "      <td>0.021189</td>\n",
       "      <td>0.021189</td>\n",
       "      <td>0.054118</td>\n",
       "    </tr>\n",
       "    <tr>\n",
       "      <th>Q4 2020</th>\n",
       "      <td>0.081411</td>\n",
       "      <td>0.085569</td>\n",
       "      <td>0.014966</td>\n",
       "      <td>0.014966</td>\n",
       "      <td>0.049228</td>\n",
       "    </tr>\n",
       "  </tbody>\n",
       "</table>\n",
       "</div>"
      ],
      "text/plain": [
       "           VARAIC    VARBIC    ARIMA1    ARIMA2   AVERAGE\n",
       "Date                                                     \n",
       "Q4 2019  0.066425  0.071917  0.048041  0.048041  0.058606\n",
       "Q1 2020  0.080711  0.082657  0.034123  0.034123  0.057903\n",
       "Q2 2020  0.085655  0.087747  0.025772  0.025772  0.056236\n",
       "Q3 2020  0.085731  0.088363  0.021189  0.021189  0.054118\n",
       "Q4 2020  0.081411  0.085569  0.014966  0.014966  0.049228"
      ]
     },
     "execution_count": 204,
     "metadata": {},
     "output_type": "execute_result"
    }
   ],
   "source": [
    "df_WLA['AVERAGE'] = df_WLA.mean(axis=1)\n",
    "df_WLA.head()"
   ]
  },
  {
   "cell_type": "markdown",
   "metadata": {},
   "source": [
    "### Export into working folder"
   ]
  },
  {
   "cell_type": "code",
   "execution_count": 205,
   "metadata": {},
   "outputs": [
    {
     "name": "stderr",
     "output_type": "stream",
     "text": [
      "C:\\Users\\msaia\\AppData\\Local\\Continuum\\anaconda3\\lib\\site-packages\\xlsxwriter\\chart.py:836: UserWarning: Sheetname in '=OC Forecast!$F$2:$F$41' contains spaces but isn't quoted. This may cause errors in Excel.\n",
      "  \"This may cause errors in Excel.\" % data)\n",
      "C:\\Users\\msaia\\AppData\\Local\\Continuum\\anaconda3\\lib\\site-packages\\xlsxwriter\\chart.py:836: UserWarning: Sheetname in '=OC Forecast!$A$2:$A$41' contains spaces but isn't quoted. This may cause errors in Excel.\n",
      "  \"This may cause errors in Excel.\" % data)\n",
      "C:\\Users\\msaia\\AppData\\Local\\Continuum\\anaconda3\\lib\\site-packages\\xlsxwriter\\chart.py:836: UserWarning: Sheetname in '=SV Forecast!$F$2:$F$41' contains spaces but isn't quoted. This may cause errors in Excel.\n",
      "  \"This may cause errors in Excel.\" % data)\n",
      "C:\\Users\\msaia\\AppData\\Local\\Continuum\\anaconda3\\lib\\site-packages\\xlsxwriter\\chart.py:836: UserWarning: Sheetname in '=SV Forecast!$A$2:$A$41' contains spaces but isn't quoted. This may cause errors in Excel.\n",
      "  \"This may cause errors in Excel.\" % data)\n",
      "C:\\Users\\msaia\\AppData\\Local\\Continuum\\anaconda3\\lib\\site-packages\\xlsxwriter\\chart.py:836: UserWarning: Sheetname in '=SD Forecast!$F$2:$F$41' contains spaces but isn't quoted. This may cause errors in Excel.\n",
      "  \"This may cause errors in Excel.\" % data)\n",
      "C:\\Users\\msaia\\AppData\\Local\\Continuum\\anaconda3\\lib\\site-packages\\xlsxwriter\\chart.py:836: UserWarning: Sheetname in '=SD Forecast!$A$2:$A$41' contains spaces but isn't quoted. This may cause errors in Excel.\n",
      "  \"This may cause errors in Excel.\" % data)\n",
      "C:\\Users\\msaia\\AppData\\Local\\Continuum\\anaconda3\\lib\\site-packages\\xlsxwriter\\chart.py:836: UserWarning: Sheetname in '=CHI Forecast!$F$2:$F$41' contains spaces but isn't quoted. This may cause errors in Excel.\n",
      "  \"This may cause errors in Excel.\" % data)\n",
      "C:\\Users\\msaia\\AppData\\Local\\Continuum\\anaconda3\\lib\\site-packages\\xlsxwriter\\chart.py:836: UserWarning: Sheetname in '=CHI Forecast!$A$2:$A$41' contains spaces but isn't quoted. This may cause errors in Excel.\n",
      "  \"This may cause errors in Excel.\" % data)\n",
      "C:\\Users\\msaia\\AppData\\Local\\Continuum\\anaconda3\\lib\\site-packages\\xlsxwriter\\chart.py:836: UserWarning: Sheetname in '=WLA Forecast!$F$2:$F$41' contains spaces but isn't quoted. This may cause errors in Excel.\n",
      "  \"This may cause errors in Excel.\" % data)\n",
      "C:\\Users\\msaia\\AppData\\Local\\Continuum\\anaconda3\\lib\\site-packages\\xlsxwriter\\chart.py:836: UserWarning: Sheetname in '=WLA Forecast!$A$2:$A$41' contains spaces but isn't quoted. This may cause errors in Excel.\n",
      "  \"This may cause errors in Excel.\" % data)\n"
     ]
    }
   ],
   "source": [
    "writer = pd.ExcelWriter('.../RevPAF Forecasts.xlsx', engine='xlsxwriter')\n",
    "\n",
    "# Write each dataframe to a different worksheet.\n",
    "df_OC.to_excel(writer, sheet_name='OC Forecast')\n",
    "df_SV.to_excel(writer, sheet_name='SV Forecast')\n",
    "df_SD.to_excel(writer, sheet_name='SD Forecast')\n",
    "df_CHI.to_excel(writer, sheet_name='CHI Forecast')\n",
    "df_WLA.to_excel(writer, sheet_name='WLA Forecast')\n",
    "\n",
    "# Get the xlsxwriter workbook and worksheet objects.\n",
    "workbook  = writer.book\n",
    "worksheetOC = writer.sheets['OC Forecast']\n",
    "worksheetSV = writer.sheets['SV Forecast']\n",
    "worksheetSD = writer.sheets['SD Forecast']\n",
    "worksheetCHI = writer.sheets['CHI Forecast']\n",
    "worksheetWLA = writer.sheets['WLA Forecast']\n",
    "format1 = workbook.add_format({'num_format': '0.0%'})\n",
    "\n",
    "# Set the format but not the column width.\n",
    "worksheetOC.set_column('B:F', None, format1)\n",
    "worksheetSV.set_column('B:F', None, format1)\n",
    "worksheetSD.set_column('B:F', None, format1)\n",
    "worksheetCHI.set_column('B:F', None, format1)\n",
    "worksheetWLA.set_column('B:F', None, format1)\n",
    "\n",
    "# Create a chart object.\n",
    "OC_line_chart = workbook.add_chart({'type': 'line'})\n",
    "SV_line_chart = workbook.add_chart({'type': 'line'})\n",
    "SD_line_chart = workbook.add_chart({'type': 'line'})\n",
    "CHI_line_chart = workbook.add_chart({'type': 'line'})\n",
    "WLA_line_chart = workbook.add_chart({'type': 'line'})\n",
    "\n",
    "# Configure the series of the chart from the dataframe data.\n",
    "OC_line_chart.add_series({\n",
    "    'name':       'OC Forecast Avg',\n",
    "    'categories': '=OC Forecast!$A$2:$A$41',\n",
    "    'values':     '=OC Forecast!$F$2:$F$41',\n",
    "})\n",
    "\n",
    "SV_line_chart.add_series({\n",
    "    'name':       'SV Forecast Avg',\n",
    "    'categories': '=SV Forecast!$A$2:$A$41',\n",
    "    'values':     '=SV Forecast!$F$2:$F$41',\n",
    "})\n",
    "\n",
    "SD_line_chart.add_series({\n",
    "    'name':       'SD Forecast Avg',\n",
    "    'categories': '=SD Forecast!$A$2:$A$41',\n",
    "    'values':     '=SD Forecast!$F$2:$F$41',\n",
    "})\n",
    "\n",
    "CHI_line_chart.add_series({\n",
    "    'name':       'CHI Forecast Avg',\n",
    "    'categories': '=CHI Forecast!$A$2:$A$41',\n",
    "    'values':     '=CHI Forecast!$F$2:$F$41',\n",
    "})\n",
    "\n",
    "WLA_line_chart.add_series({\n",
    "    'name':       'WLA Forecast Avg',\n",
    "    'categories': '=WLA Forecast!$A$2:$A$41',\n",
    "    'values':     '=WLA Forecast!$F$2:$F$41',\n",
    "})\n",
    "\n",
    "# # Combine the charts.\n",
    "# OC_line_chart.combine(SV_line_chart)\n",
    "\n",
    "# Insert the chart into the worksheet.\n",
    "worksheetOC.insert_chart('H2', OC_line_chart)\n",
    "worksheetSV.insert_chart('H2', SV_line_chart)\n",
    "worksheetSD.insert_chart('H2', SD_line_chart)\n",
    "worksheetCHI.insert_chart('H2', CHI_line_chart)\n",
    "worksheetWLA.insert_chart('H2', WLA_line_chart)\n",
    "\n",
    "# Close the Pandas Excel writer and output the Excel file.\n",
    "writer.save()"
   ]
  }
 ],
 "metadata": {
  "kernelspec": {
   "display_name": "Python 3",
   "language": "python",
   "name": "python3"
  },
  "language_info": {
   "codemirror_mode": {
    "name": "ipython",
    "version": 3
   },
   "file_extension": ".py",
   "mimetype": "text/x-python",
   "name": "python",
   "nbconvert_exporter": "python",
   "pygments_lexer": "ipython3",
   "version": "3.7.3"
  }
 },
 "nbformat": 4,
 "nbformat_minor": 2
}
